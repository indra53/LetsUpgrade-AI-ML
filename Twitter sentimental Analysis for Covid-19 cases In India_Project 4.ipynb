{
 "cells": [
  {
   "cell_type": "raw",
   "metadata": {},
   "source": [
    "we will collect text data from twitter API  "
   ]
  },
  {
   "cell_type": "code",
   "execution_count": 45,
   "metadata": {},
   "outputs": [
    {
     "name": "stdout",
     "output_type": "stream",
     "text": [
      "Requirement already satisfied: tweepy in c:\\users\\indrajeet\\anaconda3\\lib\\site-packages (3.9.0)\n",
      "Requirement already satisfied: requests[socks]>=2.11.1 in c:\\users\\indrajeet\\anaconda3\\lib\\site-packages (from tweepy) (2.24.0)\n",
      "Requirement already satisfied: requests-oauthlib>=0.7.0 in c:\\users\\indrajeet\\anaconda3\\lib\\site-packages (from tweepy) (1.3.0)\n",
      "Requirement already satisfied: six>=1.10.0 in c:\\users\\indrajeet\\anaconda3\\lib\\site-packages (from tweepy) (1.15.0)\n",
      "Requirement already satisfied: chardet<4,>=3.0.2 in c:\\users\\indrajeet\\anaconda3\\lib\\site-packages (from requests[socks]>=2.11.1->tweepy) (3.0.4)\n",
      "Requirement already satisfied: certifi>=2017.4.17 in c:\\users\\indrajeet\\anaconda3\\lib\\site-packages (from requests[socks]>=2.11.1->tweepy) (2020.6.20)\n",
      "Requirement already satisfied: urllib3!=1.25.0,!=1.25.1,<1.26,>=1.21.1 in c:\\users\\indrajeet\\anaconda3\\lib\\site-packages (from requests[socks]>=2.11.1->tweepy) (1.25.9)\n",
      "Requirement already satisfied: idna<3,>=2.5 in c:\\users\\indrajeet\\anaconda3\\lib\\site-packages (from requests[socks]>=2.11.1->tweepy) (2.10)\n",
      "Requirement already satisfied: PySocks!=1.5.7,>=1.5.6; extra == \"socks\" in c:\\users\\indrajeet\\anaconda3\\lib\\site-packages (from requests[socks]>=2.11.1->tweepy) (1.7.1)\n",
      "Requirement already satisfied: oauthlib>=3.0.0 in c:\\users\\indrajeet\\anaconda3\\lib\\site-packages (from requests-oauthlib>=0.7.0->tweepy) (3.1.0)\n"
     ]
    }
   ],
   "source": [
    " !pip install tweepy "
   ]
  },
  {
   "cell_type": "code",
   "execution_count": 46,
   "metadata": {},
   "outputs": [
    {
     "name": "stdout",
     "output_type": "stream",
     "text": [
      "Requirement already satisfied: openpyxl in c:\\users\\indrajeet\\anaconda3\\lib\\site-packages (3.0.4)\n",
      "Requirement already satisfied: et-xmlfile in c:\\users\\indrajeet\\anaconda3\\lib\\site-packages (from openpyxl) (1.0.1)\n",
      "Requirement already satisfied: jdcal in c:\\users\\indrajeet\\anaconda3\\lib\\site-packages (from openpyxl) (1.4.1)\n"
     ]
    }
   ],
   "source": [
    "!pip install openpyxl "
   ]
  },
  {
   "cell_type": "code",
   "execution_count": 47,
   "metadata": {},
   "outputs": [],
   "source": [
    "import numpy as np\n",
    "import pandas as pd\n",
    "import tweepy\n",
    "import json\n",
    "from tweepy import OAuthHandler"
   ]
  },
  {
   "cell_type": "code",
   "execution_count": 48,
   "metadata": {},
   "outputs": [],
   "source": [
    "consumer_key=\"eTAbvNAoTvq2oWYF4pJEdX5gQ\"\n",
    "\n",
    "consumer_secret=\"batX46LNjH0iAcXGfaPQx3lDCAWhjq1GanICfmPPtuduUrKLWM\"\n",
    "\n",
    "access_token=\"1254039319930646532-PTszt9bW93VzEEr1yISzpNA8Jqqopo\"\n",
    "\n",
    "access_token_secret=\"wPSimV12XR5xP3MM8xvaonl6lVefgHblqMyZvH8vpwVMr\""
   ]
  },
  {
   "cell_type": "code",
   "execution_count": 49,
   "metadata": {},
   "outputs": [],
   "source": [
    "auth=tweepy.OAuthHandler(consumer_key, consumer_secret)\n",
    "auth.set_access_token(access_token,access_token_secret)\n",
    "api=tweepy.API(auth)"
   ]
  },
  {
   "cell_type": "code",
   "execution_count": 50,
   "metadata": {},
   "outputs": [],
   "source": [
    "query='Covid cases in India'"
   ]
  },
  {
   "cell_type": "code",
   "execution_count": 51,
   "metadata": {},
   "outputs": [
    {
     "name": "stdout",
     "output_type": "stream",
     "text": [
      "Status(_api=<tweepy.api.API object at 0x000001FB13C61100>, _json={'created_at': 'Thu Nov 19 01:01:28 +0000 2020', 'id': 1329228264863277056, 'id_str': '1329228264863277056', 'full_text': '#COVID__19\\nTotal corona cases 19.11.20\\nin India and in last 24 Hours\\nConfirmed. 89,58,143. ( 45,369 )\\nActive.          4,42,739\\nRecovered. 83,81,770. ( 48,675 )\\nDeceased.     1,31,618. ( 586)\\nRecovery  rate  93.5 %\\n#coronakoharanahai', 'truncated': False, 'display_text_range': [0, 233], 'entities': {'hashtags': [{'text': 'COVID__19', 'indices': [0, 10]}, {'text': 'coronakoharanahai', 'indices': [215, 233]}], 'symbols': [], 'user_mentions': [], 'urls': []}, 'metadata': {'iso_language_code': 'en', 'result_type': 'recent'}, 'source': '<a href=\"http://twitter.com/download/iphone\" rel=\"nofollow\">Twitter for iPhone</a>', 'in_reply_to_status_id': None, 'in_reply_to_status_id_str': None, 'in_reply_to_user_id': None, 'in_reply_to_user_id_str': None, 'in_reply_to_screen_name': None, 'user': {'id': 716327604, 'id_str': '716327604', 'name': 'M R Laroia', 'screen_name': 'mrlaroia', 'location': 'Gurgaon, India', 'description': 'Proud Nationalist, Ex Mahamantri-BJP, Contested - Councillor. Patron -in - Chief, President Eight Terms . #Jai_Hind #Bharat_Mata_Ki_Jai...#राष्ट्रहित_सर्वोपरि', 'url': None, 'entities': {'description': {'urls': []}}, 'protected': False, 'followers_count': 56, 'friends_count': 205, 'listed_count': 0, 'created_at': 'Wed Jul 25 16:10:12 +0000 2012', 'favourites_count': 1863, 'utc_offset': None, 'time_zone': None, 'geo_enabled': True, 'verified': False, 'statuses_count': 4150, 'lang': None, 'contributors_enabled': False, 'is_translator': False, 'is_translation_enabled': False, 'profile_background_color': 'C0DEED', 'profile_background_image_url': 'http://abs.twimg.com/images/themes/theme1/bg.png', 'profile_background_image_url_https': 'https://abs.twimg.com/images/themes/theme1/bg.png', 'profile_background_tile': False, 'profile_image_url': 'http://pbs.twimg.com/profile_images/1037364647584616448/_dG4OdNI_normal.jpg', 'profile_image_url_https': 'https://pbs.twimg.com/profile_images/1037364647584616448/_dG4OdNI_normal.jpg', 'profile_banner_url': 'https://pbs.twimg.com/profile_banners/716327604/1505737400', 'profile_link_color': '1DA1F2', 'profile_sidebar_border_color': 'C0DEED', 'profile_sidebar_fill_color': 'DDEEF6', 'profile_text_color': '333333', 'profile_use_background_image': True, 'has_extended_profile': True, 'default_profile': True, 'default_profile_image': False, 'following': False, 'follow_request_sent': False, 'notifications': False, 'translator_type': 'none'}, 'geo': None, 'coordinates': None, 'place': None, 'contributors': None, 'is_quote_status': False, 'retweet_count': 0, 'favorite_count': 0, 'favorited': False, 'retweeted': False, 'lang': 'en'}, created_at=datetime.datetime(2020, 11, 19, 1, 1, 28), id=1329228264863277056, id_str='1329228264863277056', full_text='#COVID__19\\nTotal corona cases 19.11.20\\nin India and in last 24 Hours\\nConfirmed. 89,58,143. ( 45,369 )\\nActive.          4,42,739\\nRecovered. 83,81,770. ( 48,675 )\\nDeceased.     1,31,618. ( 586)\\nRecovery  rate  93.5 %\\n#coronakoharanahai', truncated=False, display_text_range=[0, 233], entities={'hashtags': [{'text': 'COVID__19', 'indices': [0, 10]}, {'text': 'coronakoharanahai', 'indices': [215, 233]}], 'symbols': [], 'user_mentions': [], 'urls': []}, metadata={'iso_language_code': 'en', 'result_type': 'recent'}, source='Twitter for iPhone', source_url='http://twitter.com/download/iphone', in_reply_to_status_id=None, in_reply_to_status_id_str=None, in_reply_to_user_id=None, in_reply_to_user_id_str=None, in_reply_to_screen_name=None, author=User(_api=<tweepy.api.API object at 0x000001FB13C61100>, _json={'id': 716327604, 'id_str': '716327604', 'name': 'M R Laroia', 'screen_name': 'mrlaroia', 'location': 'Gurgaon, India', 'description': 'Proud Nationalist, Ex Mahamantri-BJP, Contested - Councillor. Patron -in - Chief, President Eight Terms . #Jai_Hind #Bharat_Mata_Ki_Jai...#राष्ट्रहित_सर्वोपरि', 'url': None, 'entities': {'description': {'urls': []}}, 'protected': False, 'followers_count': 56, 'friends_count': 205, 'listed_count': 0, 'created_at': 'Wed Jul 25 16:10:12 +0000 2012', 'favourites_count': 1863, 'utc_offset': None, 'time_zone': None, 'geo_enabled': True, 'verified': False, 'statuses_count': 4150, 'lang': None, 'contributors_enabled': False, 'is_translator': False, 'is_translation_enabled': False, 'profile_background_color': 'C0DEED', 'profile_background_image_url': 'http://abs.twimg.com/images/themes/theme1/bg.png', 'profile_background_image_url_https': 'https://abs.twimg.com/images/themes/theme1/bg.png', 'profile_background_tile': False, 'profile_image_url': 'http://pbs.twimg.com/profile_images/1037364647584616448/_dG4OdNI_normal.jpg', 'profile_image_url_https': 'https://pbs.twimg.com/profile_images/1037364647584616448/_dG4OdNI_normal.jpg', 'profile_banner_url': 'https://pbs.twimg.com/profile_banners/716327604/1505737400', 'profile_link_color': '1DA1F2', 'profile_sidebar_border_color': 'C0DEED', 'profile_sidebar_fill_color': 'DDEEF6', 'profile_text_color': '333333', 'profile_use_background_image': True, 'has_extended_profile': True, 'default_profile': True, 'default_profile_image': False, 'following': False, 'follow_request_sent': False, 'notifications': False, 'translator_type': 'none'}, id=716327604, id_str='716327604', name='M R Laroia', screen_name='mrlaroia', location='Gurgaon, India', description='Proud Nationalist, Ex Mahamantri-BJP, Contested - Councillor. Patron -in - Chief, President Eight Terms . #Jai_Hind #Bharat_Mata_Ki_Jai...#राष्ट्रहित_सर्वोपरि', url=None, entities={'description': {'urls': []}}, protected=False, followers_count=56, friends_count=205, listed_count=0, created_at=datetime.datetime(2012, 7, 25, 16, 10, 12), favourites_count=1863, utc_offset=None, time_zone=None, geo_enabled=True, verified=False, statuses_count=4150, lang=None, contributors_enabled=False, is_translator=False, is_translation_enabled=False, profile_background_color='C0DEED', profile_background_image_url='http://abs.twimg.com/images/themes/theme1/bg.png', profile_background_image_url_https='https://abs.twimg.com/images/themes/theme1/bg.png', profile_background_tile=False, profile_image_url='http://pbs.twimg.com/profile_images/1037364647584616448/_dG4OdNI_normal.jpg', profile_image_url_https='https://pbs.twimg.com/profile_images/1037364647584616448/_dG4OdNI_normal.jpg', profile_banner_url='https://pbs.twimg.com/profile_banners/716327604/1505737400', profile_link_color='1DA1F2', profile_sidebar_border_color='C0DEED', profile_sidebar_fill_color='DDEEF6', profile_text_color='333333', profile_use_background_image=True, has_extended_profile=True, default_profile=True, default_profile_image=False, following=False, follow_request_sent=False, notifications=False, translator_type='none'), user=User(_api=<tweepy.api.API object at 0x000001FB13C61100>, _json={'id': 716327604, 'id_str': '716327604', 'name': 'M R Laroia', 'screen_name': 'mrlaroia', 'location': 'Gurgaon, India', 'description': 'Proud Nationalist, Ex Mahamantri-BJP, Contested - Councillor. Patron -in - Chief, President Eight Terms . #Jai_Hind #Bharat_Mata_Ki_Jai...#राष्ट्रहित_सर्वोपरि', 'url': None, 'entities': {'description': {'urls': []}}, 'protected': False, 'followers_count': 56, 'friends_count': 205, 'listed_count': 0, 'created_at': 'Wed Jul 25 16:10:12 +0000 2012', 'favourites_count': 1863, 'utc_offset': None, 'time_zone': None, 'geo_enabled': True, 'verified': False, 'statuses_count': 4150, 'lang': None, 'contributors_enabled': False, 'is_translator': False, 'is_translation_enabled': False, 'profile_background_color': 'C0DEED', 'profile_background_image_url': 'http://abs.twimg.com/images/themes/theme1/bg.png', 'profile_background_image_url_https': 'https://abs.twimg.com/images/themes/theme1/bg.png', 'profile_background_tile': False, 'profile_image_url': 'http://pbs.twimg.com/profile_images/1037364647584616448/_dG4OdNI_normal.jpg', 'profile_image_url_https': 'https://pbs.twimg.com/profile_images/1037364647584616448/_dG4OdNI_normal.jpg', 'profile_banner_url': 'https://pbs.twimg.com/profile_banners/716327604/1505737400', 'profile_link_color': '1DA1F2', 'profile_sidebar_border_color': 'C0DEED', 'profile_sidebar_fill_color': 'DDEEF6', 'profile_text_color': '333333', 'profile_use_background_image': True, 'has_extended_profile': True, 'default_profile': True, 'default_profile_image': False, 'following': False, 'follow_request_sent': False, 'notifications': False, 'translator_type': 'none'}, id=716327604, id_str='716327604', name='M R Laroia', screen_name='mrlaroia', location='Gurgaon, India', description='Proud Nationalist, Ex Mahamantri-BJP, Contested - Councillor. Patron -in - Chief, President Eight Terms . #Jai_Hind #Bharat_Mata_Ki_Jai...#राष्ट्रहित_सर्वोपरि', url=None, entities={'description': {'urls': []}}, protected=False, followers_count=56, friends_count=205, listed_count=0, created_at=datetime.datetime(2012, 7, 25, 16, 10, 12), favourites_count=1863, utc_offset=None, time_zone=None, geo_enabled=True, verified=False, statuses_count=4150, lang=None, contributors_enabled=False, is_translator=False, is_translation_enabled=False, profile_background_color='C0DEED', profile_background_image_url='http://abs.twimg.com/images/themes/theme1/bg.png', profile_background_image_url_https='https://abs.twimg.com/images/themes/theme1/bg.png', profile_background_tile=False, profile_image_url='http://pbs.twimg.com/profile_images/1037364647584616448/_dG4OdNI_normal.jpg', profile_image_url_https='https://pbs.twimg.com/profile_images/1037364647584616448/_dG4OdNI_normal.jpg', profile_banner_url='https://pbs.twimg.com/profile_banners/716327604/1505737400', profile_link_color='1DA1F2', profile_sidebar_border_color='C0DEED', profile_sidebar_fill_color='DDEEF6', profile_text_color='333333', profile_use_background_image=True, has_extended_profile=True, default_profile=True, default_profile_image=False, following=False, follow_request_sent=False, notifications=False, translator_type='none'), geo=None, coordinates=None, place=None, contributors=None, is_quote_status=False, retweet_count=0, favorite_count=0, favorited=False, retweeted=False, lang='en') \n",
      "\n",
      ".......................................\n",
      "\n",
      "Status(_api=<tweepy.api.API object at 0x000001FB13C61100>, _json={'created_at': 'Thu Nov 19 01:01:12 +0000 2020', 'id': 1329228197397979141, 'id_str': '1329228197397979141', 'full_text': 'Random COVID-19 tests of 165 persons on Noida-Delhi borders find 3 positive\\xa0cases https://t.co/T8zI6iIV0N', 'truncated': False, 'display_text_range': [0, 105], 'entities': {'hashtags': [], 'symbols': [], 'user_mentions': [], 'urls': [{'url': 'https://t.co/T8zI6iIV0N', 'expanded_url': 'https://www.indnewslive.in/random-covid-19-tests-of-165-persons-on-noida-delhi-borders-find-3-positive-cases/', 'display_url': 'indnewslive.in/random-covid-1…', 'indices': [82, 105]}]}, 'metadata': {'iso_language_code': 'en', 'result_type': 'recent'}, 'source': '<a href=\"http://publicize.wp.com/\" rel=\"nofollow\">WordPress.com</a>', 'in_reply_to_status_id': None, 'in_reply_to_status_id_str': None, 'in_reply_to_user_id': None, 'in_reply_to_user_id_str': None, 'in_reply_to_screen_name': None, 'user': {'id': 1251854839832690689, 'id_str': '1251854839832690689', 'name': 'India News Live', 'screen_name': 'India_NewsLive', 'location': 'India', 'description': '24x7 latest news updates from INDIA and around the World.\\n#INDIAnews #dailynews #24x7news #onlinenews #latestnews #newsupdates', 'url': 'https://t.co/MCBJ3Bh2ZB', 'entities': {'url': {'urls': [{'url': 'https://t.co/MCBJ3Bh2ZB', 'expanded_url': 'https://www.indnewslive.in', 'display_url': 'indnewslive.in', 'indices': [0, 23]}]}, 'description': {'urls': []}}, 'protected': False, 'followers_count': 794, 'friends_count': 31, 'listed_count': 1, 'created_at': 'Sun Apr 19 12:47:15 +0000 2020', 'favourites_count': 3, 'utc_offset': None, 'time_zone': None, 'geo_enabled': False, 'verified': False, 'statuses_count': 22976, 'lang': None, 'contributors_enabled': False, 'is_translator': False, 'is_translation_enabled': False, 'profile_background_color': 'F5F8FA', 'profile_background_image_url': None, 'profile_background_image_url_https': None, 'profile_background_tile': False, 'profile_image_url': 'http://pbs.twimg.com/profile_images/1251854933592207361/6m-ODooS_normal.jpg', 'profile_image_url_https': 'https://pbs.twimg.com/profile_images/1251854933592207361/6m-ODooS_normal.jpg', 'profile_banner_url': 'https://pbs.twimg.com/profile_banners/1251854839832690689/1590260885', 'profile_link_color': '1DA1F2', 'profile_sidebar_border_color': 'C0DEED', 'profile_sidebar_fill_color': 'DDEEF6', 'profile_text_color': '333333', 'profile_use_background_image': True, 'has_extended_profile': False, 'default_profile': True, 'default_profile_image': False, 'following': False, 'follow_request_sent': False, 'notifications': False, 'translator_type': 'none'}, 'geo': None, 'coordinates': None, 'place': None, 'contributors': None, 'is_quote_status': False, 'retweet_count': 0, 'favorite_count': 0, 'favorited': False, 'retweeted': False, 'possibly_sensitive': False, 'lang': 'en'}, created_at=datetime.datetime(2020, 11, 19, 1, 1, 12), id=1329228197397979141, id_str='1329228197397979141', full_text='Random COVID-19 tests of 165 persons on Noida-Delhi borders find 3 positive\\xa0cases https://t.co/T8zI6iIV0N', truncated=False, display_text_range=[0, 105], entities={'hashtags': [], 'symbols': [], 'user_mentions': [], 'urls': [{'url': 'https://t.co/T8zI6iIV0N', 'expanded_url': 'https://www.indnewslive.in/random-covid-19-tests-of-165-persons-on-noida-delhi-borders-find-3-positive-cases/', 'display_url': 'indnewslive.in/random-covid-1…', 'indices': [82, 105]}]}, metadata={'iso_language_code': 'en', 'result_type': 'recent'}, source='WordPress.com', source_url='http://publicize.wp.com/', in_reply_to_status_id=None, in_reply_to_status_id_str=None, in_reply_to_user_id=None, in_reply_to_user_id_str=None, in_reply_to_screen_name=None, author=User(_api=<tweepy.api.API object at 0x000001FB13C61100>, _json={'id': 1251854839832690689, 'id_str': '1251854839832690689', 'name': 'India News Live', 'screen_name': 'India_NewsLive', 'location': 'India', 'description': '24x7 latest news updates from INDIA and around the World.\\n#INDIAnews #dailynews #24x7news #onlinenews #latestnews #newsupdates', 'url': 'https://t.co/MCBJ3Bh2ZB', 'entities': {'url': {'urls': [{'url': 'https://t.co/MCBJ3Bh2ZB', 'expanded_url': 'https://www.indnewslive.in', 'display_url': 'indnewslive.in', 'indices': [0, 23]}]}, 'description': {'urls': []}}, 'protected': False, 'followers_count': 794, 'friends_count': 31, 'listed_count': 1, 'created_at': 'Sun Apr 19 12:47:15 +0000 2020', 'favourites_count': 3, 'utc_offset': None, 'time_zone': None, 'geo_enabled': False, 'verified': False, 'statuses_count': 22976, 'lang': None, 'contributors_enabled': False, 'is_translator': False, 'is_translation_enabled': False, 'profile_background_color': 'F5F8FA', 'profile_background_image_url': None, 'profile_background_image_url_https': None, 'profile_background_tile': False, 'profile_image_url': 'http://pbs.twimg.com/profile_images/1251854933592207361/6m-ODooS_normal.jpg', 'profile_image_url_https': 'https://pbs.twimg.com/profile_images/1251854933592207361/6m-ODooS_normal.jpg', 'profile_banner_url': 'https://pbs.twimg.com/profile_banners/1251854839832690689/1590260885', 'profile_link_color': '1DA1F2', 'profile_sidebar_border_color': 'C0DEED', 'profile_sidebar_fill_color': 'DDEEF6', 'profile_text_color': '333333', 'profile_use_background_image': True, 'has_extended_profile': False, 'default_profile': True, 'default_profile_image': False, 'following': False, 'follow_request_sent': False, 'notifications': False, 'translator_type': 'none'}, id=1251854839832690689, id_str='1251854839832690689', name='India News Live', screen_name='India_NewsLive', location='India', description='24x7 latest news updates from INDIA and around the World.\\n#INDIAnews #dailynews #24x7news #onlinenews #latestnews #newsupdates', url='https://t.co/MCBJ3Bh2ZB', entities={'url': {'urls': [{'url': 'https://t.co/MCBJ3Bh2ZB', 'expanded_url': 'https://www.indnewslive.in', 'display_url': 'indnewslive.in', 'indices': [0, 23]}]}, 'description': {'urls': []}}, protected=False, followers_count=794, friends_count=31, listed_count=1, created_at=datetime.datetime(2020, 4, 19, 12, 47, 15), favourites_count=3, utc_offset=None, time_zone=None, geo_enabled=False, verified=False, statuses_count=22976, lang=None, contributors_enabled=False, is_translator=False, is_translation_enabled=False, profile_background_color='F5F8FA', profile_background_image_url=None, profile_background_image_url_https=None, profile_background_tile=False, profile_image_url='http://pbs.twimg.com/profile_images/1251854933592207361/6m-ODooS_normal.jpg', profile_image_url_https='https://pbs.twimg.com/profile_images/1251854933592207361/6m-ODooS_normal.jpg', profile_banner_url='https://pbs.twimg.com/profile_banners/1251854839832690689/1590260885', profile_link_color='1DA1F2', profile_sidebar_border_color='C0DEED', profile_sidebar_fill_color='DDEEF6', profile_text_color='333333', profile_use_background_image=True, has_extended_profile=False, default_profile=True, default_profile_image=False, following=False, follow_request_sent=False, notifications=False, translator_type='none'), user=User(_api=<tweepy.api.API object at 0x000001FB13C61100>, _json={'id': 1251854839832690689, 'id_str': '1251854839832690689', 'name': 'India News Live', 'screen_name': 'India_NewsLive', 'location': 'India', 'description': '24x7 latest news updates from INDIA and around the World.\\n#INDIAnews #dailynews #24x7news #onlinenews #latestnews #newsupdates', 'url': 'https://t.co/MCBJ3Bh2ZB', 'entities': {'url': {'urls': [{'url': 'https://t.co/MCBJ3Bh2ZB', 'expanded_url': 'https://www.indnewslive.in', 'display_url': 'indnewslive.in', 'indices': [0, 23]}]}, 'description': {'urls': []}}, 'protected': False, 'followers_count': 794, 'friends_count': 31, 'listed_count': 1, 'created_at': 'Sun Apr 19 12:47:15 +0000 2020', 'favourites_count': 3, 'utc_offset': None, 'time_zone': None, 'geo_enabled': False, 'verified': False, 'statuses_count': 22976, 'lang': None, 'contributors_enabled': False, 'is_translator': False, 'is_translation_enabled': False, 'profile_background_color': 'F5F8FA', 'profile_background_image_url': None, 'profile_background_image_url_https': None, 'profile_background_tile': False, 'profile_image_url': 'http://pbs.twimg.com/profile_images/1251854933592207361/6m-ODooS_normal.jpg', 'profile_image_url_https': 'https://pbs.twimg.com/profile_images/1251854933592207361/6m-ODooS_normal.jpg', 'profile_banner_url': 'https://pbs.twimg.com/profile_banners/1251854839832690689/1590260885', 'profile_link_color': '1DA1F2', 'profile_sidebar_border_color': 'C0DEED', 'profile_sidebar_fill_color': 'DDEEF6', 'profile_text_color': '333333', 'profile_use_background_image': True, 'has_extended_profile': False, 'default_profile': True, 'default_profile_image': False, 'following': False, 'follow_request_sent': False, 'notifications': False, 'translator_type': 'none'}, id=1251854839832690689, id_str='1251854839832690689', name='India News Live', screen_name='India_NewsLive', location='India', description='24x7 latest news updates from INDIA and around the World.\\n#INDIAnews #dailynews #24x7news #onlinenews #latestnews #newsupdates', url='https://t.co/MCBJ3Bh2ZB', entities={'url': {'urls': [{'url': 'https://t.co/MCBJ3Bh2ZB', 'expanded_url': 'https://www.indnewslive.in', 'display_url': 'indnewslive.in', 'indices': [0, 23]}]}, 'description': {'urls': []}}, protected=False, followers_count=794, friends_count=31, listed_count=1, created_at=datetime.datetime(2020, 4, 19, 12, 47, 15), favourites_count=3, utc_offset=None, time_zone=None, geo_enabled=False, verified=False, statuses_count=22976, lang=None, contributors_enabled=False, is_translator=False, is_translation_enabled=False, profile_background_color='F5F8FA', profile_background_image_url=None, profile_background_image_url_https=None, profile_background_tile=False, profile_image_url='http://pbs.twimg.com/profile_images/1251854933592207361/6m-ODooS_normal.jpg', profile_image_url_https='https://pbs.twimg.com/profile_images/1251854933592207361/6m-ODooS_normal.jpg', profile_banner_url='https://pbs.twimg.com/profile_banners/1251854839832690689/1590260885', profile_link_color='1DA1F2', profile_sidebar_border_color='C0DEED', profile_sidebar_fill_color='DDEEF6', profile_text_color='333333', profile_use_background_image=True, has_extended_profile=False, default_profile=True, default_profile_image=False, following=False, follow_request_sent=False, notifications=False, translator_type='none'), geo=None, coordinates=None, place=None, contributors=None, is_quote_status=False, retweet_count=0, favorite_count=0, favorited=False, retweeted=False, possibly_sensitive=False, lang='en') \n",
      "\n",
      ".......................................\n",
      "\n",
      "Status(_api=<tweepy.api.API object at 0x000001FB13C61100>, _json={'created_at': 'Thu Nov 19 00:49:48 +0000 2020', 'id': 1329225326484987904, 'id_str': '1329225326484987904', 'full_text': 'India Sees 38,617 New Covid Infections; Delhi Cases Cross 5\\xa0Lakh https://t.co/TXRCNwTsg3', 'truncated': False, 'display_text_range': [0, 88], 'entities': {'hashtags': [], 'symbols': [], 'user_mentions': [], 'urls': [{'url': 'https://t.co/TXRCNwTsg3', 'expanded_url': 'https://www.todaynewsheadline.in/india-sees-38617-new-covid-infections-delhi-cases-cross-5-lakh/', 'display_url': 'todaynewsheadline.in/india-sees-386…', 'indices': [65, 88]}]}, 'metadata': {'iso_language_code': 'en', 'result_type': 'recent'}, 'source': '<a href=\"http://publicize.wp.com/\" rel=\"nofollow\">WordPress.com</a>', 'in_reply_to_status_id': None, 'in_reply_to_status_id_str': None, 'in_reply_to_user_id': None, 'in_reply_to_user_id_str': None, 'in_reply_to_screen_name': None, 'user': {'id': 1104734421717041152, 'id_str': '1104734421717041152', 'name': 'Today News Headlines', 'screen_name': 'News_Headlines_', 'location': 'New Delhi, India', 'description': 'Follow and get 100% Follow Back \\n\\nDaily and Update News in Hindi and English\\n\\nhttps://t.co/DZMWYeb2KG…', 'url': 'https://t.co/fEVDpZwYBH', 'entities': {'url': {'urls': [{'url': 'https://t.co/fEVDpZwYBH', 'expanded_url': 'https://English.todaynewsheadline.in/', 'display_url': 'English.todaynewsheadline.in', 'indices': [0, 23]}]}, 'description': {'urls': [{'url': 'https://t.co/DZMWYeb2KG', 'expanded_url': 'http://Facebook.com/TodayNewsHeadl', 'display_url': 'Facebook.com/TodayNewsHeadl', 'indices': [78, 101]}]}}, 'protected': False, 'followers_count': 208, 'friends_count': 239, 'listed_count': 0, 'created_at': 'Sun Mar 10 13:23:05 +0000 2019', 'favourites_count': 366, 'utc_offset': None, 'time_zone': None, 'geo_enabled': False, 'verified': False, 'statuses_count': 10875, 'lang': None, 'contributors_enabled': False, 'is_translator': False, 'is_translation_enabled': False, 'profile_background_color': 'F5F8FA', 'profile_background_image_url': None, 'profile_background_image_url_https': None, 'profile_background_tile': False, 'profile_image_url': 'http://pbs.twimg.com/profile_images/1278691432161619969/7sEPY2XP_normal.jpg', 'profile_image_url_https': 'https://pbs.twimg.com/profile_images/1278691432161619969/7sEPY2XP_normal.jpg', 'profile_banner_url': 'https://pbs.twimg.com/profile_banners/1104734421717041152/1588934179', 'profile_link_color': '1DA1F2', 'profile_sidebar_border_color': 'C0DEED', 'profile_sidebar_fill_color': 'DDEEF6', 'profile_text_color': '333333', 'profile_use_background_image': True, 'has_extended_profile': False, 'default_profile': True, 'default_profile_image': False, 'following': False, 'follow_request_sent': False, 'notifications': False, 'translator_type': 'none'}, 'geo': None, 'coordinates': None, 'place': None, 'contributors': None, 'is_quote_status': False, 'retweet_count': 0, 'favorite_count': 0, 'favorited': False, 'retweeted': False, 'possibly_sensitive': False, 'lang': 'en'}, created_at=datetime.datetime(2020, 11, 19, 0, 49, 48), id=1329225326484987904, id_str='1329225326484987904', full_text='India Sees 38,617 New Covid Infections; Delhi Cases Cross 5\\xa0Lakh https://t.co/TXRCNwTsg3', truncated=False, display_text_range=[0, 88], entities={'hashtags': [], 'symbols': [], 'user_mentions': [], 'urls': [{'url': 'https://t.co/TXRCNwTsg3', 'expanded_url': 'https://www.todaynewsheadline.in/india-sees-38617-new-covid-infections-delhi-cases-cross-5-lakh/', 'display_url': 'todaynewsheadline.in/india-sees-386…', 'indices': [65, 88]}]}, metadata={'iso_language_code': 'en', 'result_type': 'recent'}, source='WordPress.com', source_url='http://publicize.wp.com/', in_reply_to_status_id=None, in_reply_to_status_id_str=None, in_reply_to_user_id=None, in_reply_to_user_id_str=None, in_reply_to_screen_name=None, author=User(_api=<tweepy.api.API object at 0x000001FB13C61100>, _json={'id': 1104734421717041152, 'id_str': '1104734421717041152', 'name': 'Today News Headlines', 'screen_name': 'News_Headlines_', 'location': 'New Delhi, India', 'description': 'Follow and get 100% Follow Back \\n\\nDaily and Update News in Hindi and English\\n\\nhttps://t.co/DZMWYeb2KG…', 'url': 'https://t.co/fEVDpZwYBH', 'entities': {'url': {'urls': [{'url': 'https://t.co/fEVDpZwYBH', 'expanded_url': 'https://English.todaynewsheadline.in/', 'display_url': 'English.todaynewsheadline.in', 'indices': [0, 23]}]}, 'description': {'urls': [{'url': 'https://t.co/DZMWYeb2KG', 'expanded_url': 'http://Facebook.com/TodayNewsHeadl', 'display_url': 'Facebook.com/TodayNewsHeadl', 'indices': [78, 101]}]}}, 'protected': False, 'followers_count': 208, 'friends_count': 239, 'listed_count': 0, 'created_at': 'Sun Mar 10 13:23:05 +0000 2019', 'favourites_count': 366, 'utc_offset': None, 'time_zone': None, 'geo_enabled': False, 'verified': False, 'statuses_count': 10875, 'lang': None, 'contributors_enabled': False, 'is_translator': False, 'is_translation_enabled': False, 'profile_background_color': 'F5F8FA', 'profile_background_image_url': None, 'profile_background_image_url_https': None, 'profile_background_tile': False, 'profile_image_url': 'http://pbs.twimg.com/profile_images/1278691432161619969/7sEPY2XP_normal.jpg', 'profile_image_url_https': 'https://pbs.twimg.com/profile_images/1278691432161619969/7sEPY2XP_normal.jpg', 'profile_banner_url': 'https://pbs.twimg.com/profile_banners/1104734421717041152/1588934179', 'profile_link_color': '1DA1F2', 'profile_sidebar_border_color': 'C0DEED', 'profile_sidebar_fill_color': 'DDEEF6', 'profile_text_color': '333333', 'profile_use_background_image': True, 'has_extended_profile': False, 'default_profile': True, 'default_profile_image': False, 'following': False, 'follow_request_sent': False, 'notifications': False, 'translator_type': 'none'}, id=1104734421717041152, id_str='1104734421717041152', name='Today News Headlines', screen_name='News_Headlines_', location='New Delhi, India', description='Follow and get 100% Follow Back \\n\\nDaily and Update News in Hindi and English\\n\\nhttps://t.co/DZMWYeb2KG…', url='https://t.co/fEVDpZwYBH', entities={'url': {'urls': [{'url': 'https://t.co/fEVDpZwYBH', 'expanded_url': 'https://English.todaynewsheadline.in/', 'display_url': 'English.todaynewsheadline.in', 'indices': [0, 23]}]}, 'description': {'urls': [{'url': 'https://t.co/DZMWYeb2KG', 'expanded_url': 'http://Facebook.com/TodayNewsHeadl', 'display_url': 'Facebook.com/TodayNewsHeadl', 'indices': [78, 101]}]}}, protected=False, followers_count=208, friends_count=239, listed_count=0, created_at=datetime.datetime(2019, 3, 10, 13, 23, 5), favourites_count=366, utc_offset=None, time_zone=None, geo_enabled=False, verified=False, statuses_count=10875, lang=None, contributors_enabled=False, is_translator=False, is_translation_enabled=False, profile_background_color='F5F8FA', profile_background_image_url=None, profile_background_image_url_https=None, profile_background_tile=False, profile_image_url='http://pbs.twimg.com/profile_images/1278691432161619969/7sEPY2XP_normal.jpg', profile_image_url_https='https://pbs.twimg.com/profile_images/1278691432161619969/7sEPY2XP_normal.jpg', profile_banner_url='https://pbs.twimg.com/profile_banners/1104734421717041152/1588934179', profile_link_color='1DA1F2', profile_sidebar_border_color='C0DEED', profile_sidebar_fill_color='DDEEF6', profile_text_color='333333', profile_use_background_image=True, has_extended_profile=False, default_profile=True, default_profile_image=False, following=False, follow_request_sent=False, notifications=False, translator_type='none'), user=User(_api=<tweepy.api.API object at 0x000001FB13C61100>, _json={'id': 1104734421717041152, 'id_str': '1104734421717041152', 'name': 'Today News Headlines', 'screen_name': 'News_Headlines_', 'location': 'New Delhi, India', 'description': 'Follow and get 100% Follow Back \\n\\nDaily and Update News in Hindi and English\\n\\nhttps://t.co/DZMWYeb2KG…', 'url': 'https://t.co/fEVDpZwYBH', 'entities': {'url': {'urls': [{'url': 'https://t.co/fEVDpZwYBH', 'expanded_url': 'https://English.todaynewsheadline.in/', 'display_url': 'English.todaynewsheadline.in', 'indices': [0, 23]}]}, 'description': {'urls': [{'url': 'https://t.co/DZMWYeb2KG', 'expanded_url': 'http://Facebook.com/TodayNewsHeadl', 'display_url': 'Facebook.com/TodayNewsHeadl', 'indices': [78, 101]}]}}, 'protected': False, 'followers_count': 208, 'friends_count': 239, 'listed_count': 0, 'created_at': 'Sun Mar 10 13:23:05 +0000 2019', 'favourites_count': 366, 'utc_offset': None, 'time_zone': None, 'geo_enabled': False, 'verified': False, 'statuses_count': 10875, 'lang': None, 'contributors_enabled': False, 'is_translator': False, 'is_translation_enabled': False, 'profile_background_color': 'F5F8FA', 'profile_background_image_url': None, 'profile_background_image_url_https': None, 'profile_background_tile': False, 'profile_image_url': 'http://pbs.twimg.com/profile_images/1278691432161619969/7sEPY2XP_normal.jpg', 'profile_image_url_https': 'https://pbs.twimg.com/profile_images/1278691432161619969/7sEPY2XP_normal.jpg', 'profile_banner_url': 'https://pbs.twimg.com/profile_banners/1104734421717041152/1588934179', 'profile_link_color': '1DA1F2', 'profile_sidebar_border_color': 'C0DEED', 'profile_sidebar_fill_color': 'DDEEF6', 'profile_text_color': '333333', 'profile_use_background_image': True, 'has_extended_profile': False, 'default_profile': True, 'default_profile_image': False, 'following': False, 'follow_request_sent': False, 'notifications': False, 'translator_type': 'none'}, id=1104734421717041152, id_str='1104734421717041152', name='Today News Headlines', screen_name='News_Headlines_', location='New Delhi, India', description='Follow and get 100% Follow Back \\n\\nDaily and Update News in Hindi and English\\n\\nhttps://t.co/DZMWYeb2KG…', url='https://t.co/fEVDpZwYBH', entities={'url': {'urls': [{'url': 'https://t.co/fEVDpZwYBH', 'expanded_url': 'https://English.todaynewsheadline.in/', 'display_url': 'English.todaynewsheadline.in', 'indices': [0, 23]}]}, 'description': {'urls': [{'url': 'https://t.co/DZMWYeb2KG', 'expanded_url': 'http://Facebook.com/TodayNewsHeadl', 'display_url': 'Facebook.com/TodayNewsHeadl', 'indices': [78, 101]}]}}, protected=False, followers_count=208, friends_count=239, listed_count=0, created_at=datetime.datetime(2019, 3, 10, 13, 23, 5), favourites_count=366, utc_offset=None, time_zone=None, geo_enabled=False, verified=False, statuses_count=10875, lang=None, contributors_enabled=False, is_translator=False, is_translation_enabled=False, profile_background_color='F5F8FA', profile_background_image_url=None, profile_background_image_url_https=None, profile_background_tile=False, profile_image_url='http://pbs.twimg.com/profile_images/1278691432161619969/7sEPY2XP_normal.jpg', profile_image_url_https='https://pbs.twimg.com/profile_images/1278691432161619969/7sEPY2XP_normal.jpg', profile_banner_url='https://pbs.twimg.com/profile_banners/1104734421717041152/1588934179', profile_link_color='1DA1F2', profile_sidebar_border_color='C0DEED', profile_sidebar_fill_color='DDEEF6', profile_text_color='333333', profile_use_background_image=True, has_extended_profile=False, default_profile=True, default_profile_image=False, following=False, follow_request_sent=False, notifications=False, translator_type='none'), geo=None, coordinates=None, place=None, contributors=None, is_quote_status=False, retweet_count=0, favorite_count=0, favorited=False, retweeted=False, possibly_sensitive=False, lang='en') \n",
      "\n",
      ".......................................\n",
      "\n",
      "Status(_api=<tweepy.api.API object at 0x000001FB13C61100>, _json={'created_at': 'Thu Nov 19 00:42:43 +0000 2020', 'id': 1329223543926743042, 'id_str': '1329223543926743042', 'full_text': 'Coronavirus India Updates: झारखंड में कोविड-19 से तीन और मरीजों की मौत, 251 नये मामले सामने आए: Coronavirus India Updates: ... https://t.co/dAXFrAQJTX', 'truncated': False, 'display_text_range': [0, 150], 'entities': {'hashtags': [], 'symbols': [], 'user_mentions': [], 'urls': [{'url': 'https://t.co/dAXFrAQJTX', 'expanded_url': 'https://khabar.ndtv.com/news/india/coronavirus-india-updates-in-hindi-coronavirus-india-report-covid-19-updates-cases-of-19-november-2020-thursday-2327155', 'display_url': 'khabar.ndtv.com/news/india/cor…', 'indices': [127, 150]}]}, 'metadata': {'iso_language_code': 'und', 'result_type': 'recent'}, 'source': '<a href=\"http://app.socializer.on\" rel=\"nofollow\">Socializer One</a>', 'in_reply_to_status_id': None, 'in_reply_to_status_id_str': None, 'in_reply_to_user_id': None, 'in_reply_to_user_id_str': None, 'in_reply_to_screen_name': None, 'user': {'id': 1134067860588728326, 'id_str': '1134067860588728326', 'name': 'Anthony Gonzales', 'screen_name': 'Anthony77299910', 'location': '', 'description': 'Product Specialist', 'url': None, 'entities': {'description': {'urls': []}}, 'protected': False, 'followers_count': 3, 'friends_count': 1, 'listed_count': 0, 'created_at': 'Thu May 30 12:03:42 +0000 2019', 'favourites_count': 2, 'utc_offset': None, 'time_zone': None, 'geo_enabled': False, 'verified': False, 'statuses_count': 13827, 'lang': None, 'contributors_enabled': False, 'is_translator': False, 'is_translation_enabled': False, 'profile_background_color': 'F5F8FA', 'profile_background_image_url': None, 'profile_background_image_url_https': None, 'profile_background_tile': False, 'profile_image_url': 'http://abs.twimg.com/sticky/default_profile_images/default_profile_normal.png', 'profile_image_url_https': 'https://abs.twimg.com/sticky/default_profile_images/default_profile_normal.png', 'profile_link_color': '1DA1F2', 'profile_sidebar_border_color': 'C0DEED', 'profile_sidebar_fill_color': 'DDEEF6', 'profile_text_color': '333333', 'profile_use_background_image': True, 'has_extended_profile': False, 'default_profile': True, 'default_profile_image': True, 'following': False, 'follow_request_sent': False, 'notifications': False, 'translator_type': 'none'}, 'geo': None, 'coordinates': None, 'place': None, 'contributors': None, 'is_quote_status': False, 'retweet_count': 0, 'favorite_count': 0, 'favorited': False, 'retweeted': False, 'possibly_sensitive': False, 'lang': 'und'}, created_at=datetime.datetime(2020, 11, 19, 0, 42, 43), id=1329223543926743042, id_str='1329223543926743042', full_text='Coronavirus India Updates: झारखंड में कोविड-19 से तीन और मरीजों की मौत, 251 नये मामले सामने आए: Coronavirus India Updates: ... https://t.co/dAXFrAQJTX', truncated=False, display_text_range=[0, 150], entities={'hashtags': [], 'symbols': [], 'user_mentions': [], 'urls': [{'url': 'https://t.co/dAXFrAQJTX', 'expanded_url': 'https://khabar.ndtv.com/news/india/coronavirus-india-updates-in-hindi-coronavirus-india-report-covid-19-updates-cases-of-19-november-2020-thursday-2327155', 'display_url': 'khabar.ndtv.com/news/india/cor…', 'indices': [127, 150]}]}, metadata={'iso_language_code': 'und', 'result_type': 'recent'}, source='Socializer One', source_url='http://app.socializer.on', in_reply_to_status_id=None, in_reply_to_status_id_str=None, in_reply_to_user_id=None, in_reply_to_user_id_str=None, in_reply_to_screen_name=None, author=User(_api=<tweepy.api.API object at 0x000001FB13C61100>, _json={'id': 1134067860588728326, 'id_str': '1134067860588728326', 'name': 'Anthony Gonzales', 'screen_name': 'Anthony77299910', 'location': '', 'description': 'Product Specialist', 'url': None, 'entities': {'description': {'urls': []}}, 'protected': False, 'followers_count': 3, 'friends_count': 1, 'listed_count': 0, 'created_at': 'Thu May 30 12:03:42 +0000 2019', 'favourites_count': 2, 'utc_offset': None, 'time_zone': None, 'geo_enabled': False, 'verified': False, 'statuses_count': 13827, 'lang': None, 'contributors_enabled': False, 'is_translator': False, 'is_translation_enabled': False, 'profile_background_color': 'F5F8FA', 'profile_background_image_url': None, 'profile_background_image_url_https': None, 'profile_background_tile': False, 'profile_image_url': 'http://abs.twimg.com/sticky/default_profile_images/default_profile_normal.png', 'profile_image_url_https': 'https://abs.twimg.com/sticky/default_profile_images/default_profile_normal.png', 'profile_link_color': '1DA1F2', 'profile_sidebar_border_color': 'C0DEED', 'profile_sidebar_fill_color': 'DDEEF6', 'profile_text_color': '333333', 'profile_use_background_image': True, 'has_extended_profile': False, 'default_profile': True, 'default_profile_image': True, 'following': False, 'follow_request_sent': False, 'notifications': False, 'translator_type': 'none'}, id=1134067860588728326, id_str='1134067860588728326', name='Anthony Gonzales', screen_name='Anthony77299910', location='', description='Product Specialist', url=None, entities={'description': {'urls': []}}, protected=False, followers_count=3, friends_count=1, listed_count=0, created_at=datetime.datetime(2019, 5, 30, 12, 3, 42), favourites_count=2, utc_offset=None, time_zone=None, geo_enabled=False, verified=False, statuses_count=13827, lang=None, contributors_enabled=False, is_translator=False, is_translation_enabled=False, profile_background_color='F5F8FA', profile_background_image_url=None, profile_background_image_url_https=None, profile_background_tile=False, profile_image_url='http://abs.twimg.com/sticky/default_profile_images/default_profile_normal.png', profile_image_url_https='https://abs.twimg.com/sticky/default_profile_images/default_profile_normal.png', profile_link_color='1DA1F2', profile_sidebar_border_color='C0DEED', profile_sidebar_fill_color='DDEEF6', profile_text_color='333333', profile_use_background_image=True, has_extended_profile=False, default_profile=True, default_profile_image=True, following=False, follow_request_sent=False, notifications=False, translator_type='none'), user=User(_api=<tweepy.api.API object at 0x000001FB13C61100>, _json={'id': 1134067860588728326, 'id_str': '1134067860588728326', 'name': 'Anthony Gonzales', 'screen_name': 'Anthony77299910', 'location': '', 'description': 'Product Specialist', 'url': None, 'entities': {'description': {'urls': []}}, 'protected': False, 'followers_count': 3, 'friends_count': 1, 'listed_count': 0, 'created_at': 'Thu May 30 12:03:42 +0000 2019', 'favourites_count': 2, 'utc_offset': None, 'time_zone': None, 'geo_enabled': False, 'verified': False, 'statuses_count': 13827, 'lang': None, 'contributors_enabled': False, 'is_translator': False, 'is_translation_enabled': False, 'profile_background_color': 'F5F8FA', 'profile_background_image_url': None, 'profile_background_image_url_https': None, 'profile_background_tile': False, 'profile_image_url': 'http://abs.twimg.com/sticky/default_profile_images/default_profile_normal.png', 'profile_image_url_https': 'https://abs.twimg.com/sticky/default_profile_images/default_profile_normal.png', 'profile_link_color': '1DA1F2', 'profile_sidebar_border_color': 'C0DEED', 'profile_sidebar_fill_color': 'DDEEF6', 'profile_text_color': '333333', 'profile_use_background_image': True, 'has_extended_profile': False, 'default_profile': True, 'default_profile_image': True, 'following': False, 'follow_request_sent': False, 'notifications': False, 'translator_type': 'none'}, id=1134067860588728326, id_str='1134067860588728326', name='Anthony Gonzales', screen_name='Anthony77299910', location='', description='Product Specialist', url=None, entities={'description': {'urls': []}}, protected=False, followers_count=3, friends_count=1, listed_count=0, created_at=datetime.datetime(2019, 5, 30, 12, 3, 42), favourites_count=2, utc_offset=None, time_zone=None, geo_enabled=False, verified=False, statuses_count=13827, lang=None, contributors_enabled=False, is_translator=False, is_translation_enabled=False, profile_background_color='F5F8FA', profile_background_image_url=None, profile_background_image_url_https=None, profile_background_tile=False, profile_image_url='http://abs.twimg.com/sticky/default_profile_images/default_profile_normal.png', profile_image_url_https='https://abs.twimg.com/sticky/default_profile_images/default_profile_normal.png', profile_link_color='1DA1F2', profile_sidebar_border_color='C0DEED', profile_sidebar_fill_color='DDEEF6', profile_text_color='333333', profile_use_background_image=True, has_extended_profile=False, default_profile=True, default_profile_image=True, following=False, follow_request_sent=False, notifications=False, translator_type='none'), geo=None, coordinates=None, place=None, contributors=None, is_quote_status=False, retweet_count=0, favorite_count=0, favorited=False, retweeted=False, possibly_sensitive=False, lang='und') \n",
      "\n",
      ".......................................\n",
      "\n",
      "Status(_api=<tweepy.api.API object at 0x000001FB13C61100>, _json={'created_at': 'Thu Nov 19 00:37:23 +0000 2020', 'id': 1329222204060557323, 'id_str': '1329222204060557323', 'full_text': \"@CNNnews18 Ohh wow.UAE didn't suspend issuance of visa to indians as covid 19 cases are very low in India ....a big laugh\", 'truncated': False, 'display_text_range': [11, 121], 'entities': {'hashtags': [], 'symbols': [], 'user_mentions': [{'screen_name': 'CNNnews18', 'name': 'CNN News18', 'id': 6509832, 'id_str': '6509832', 'indices': [0, 10]}], 'urls': []}, 'metadata': {'iso_language_code': 'en', 'result_type': 'recent'}, 'source': '<a href=\"http://twitter.com/download/android\" rel=\"nofollow\">Twitter for Android</a>', 'in_reply_to_status_id': 1329220344255811586, 'in_reply_to_status_id_str': '1329220344255811586', 'in_reply_to_user_id': 6509832, 'in_reply_to_user_id_str': '6509832', 'in_reply_to_screen_name': 'CNNnews18', 'user': {'id': 1143178814916370438, 'id_str': '1143178814916370438', 'name': 'Nadia', 'screen_name': 'Nadiazanjani', 'location': 'London, England', 'description': '', 'url': None, 'entities': {'description': {'urls': []}}, 'protected': False, 'followers_count': 525, 'friends_count': 1086, 'listed_count': 0, 'created_at': 'Mon Jun 24 15:27:23 +0000 2019', 'favourites_count': 25964, 'utc_offset': None, 'time_zone': None, 'geo_enabled': False, 'verified': False, 'statuses_count': 5614, 'lang': None, 'contributors_enabled': False, 'is_translator': False, 'is_translation_enabled': False, 'profile_background_color': 'F5F8FA', 'profile_background_image_url': None, 'profile_background_image_url_https': None, 'profile_background_tile': False, 'profile_image_url': 'http://pbs.twimg.com/profile_images/1178698771288481792/Dt4cWAuo_normal.jpg', 'profile_image_url_https': 'https://pbs.twimg.com/profile_images/1178698771288481792/Dt4cWAuo_normal.jpg', 'profile_link_color': '1DA1F2', 'profile_sidebar_border_color': 'C0DEED', 'profile_sidebar_fill_color': 'DDEEF6', 'profile_text_color': '333333', 'profile_use_background_image': True, 'has_extended_profile': False, 'default_profile': True, 'default_profile_image': False, 'following': False, 'follow_request_sent': False, 'notifications': False, 'translator_type': 'none'}, 'geo': None, 'coordinates': None, 'place': None, 'contributors': None, 'is_quote_status': False, 'retweet_count': 0, 'favorite_count': 0, 'favorited': False, 'retweeted': False, 'lang': 'en'}, created_at=datetime.datetime(2020, 11, 19, 0, 37, 23), id=1329222204060557323, id_str='1329222204060557323', full_text=\"@CNNnews18 Ohh wow.UAE didn't suspend issuance of visa to indians as covid 19 cases are very low in India ....a big laugh\", truncated=False, display_text_range=[11, 121], entities={'hashtags': [], 'symbols': [], 'user_mentions': [{'screen_name': 'CNNnews18', 'name': 'CNN News18', 'id': 6509832, 'id_str': '6509832', 'indices': [0, 10]}], 'urls': []}, metadata={'iso_language_code': 'en', 'result_type': 'recent'}, source='Twitter for Android', source_url='http://twitter.com/download/android', in_reply_to_status_id=1329220344255811586, in_reply_to_status_id_str='1329220344255811586', in_reply_to_user_id=6509832, in_reply_to_user_id_str='6509832', in_reply_to_screen_name='CNNnews18', author=User(_api=<tweepy.api.API object at 0x000001FB13C61100>, _json={'id': 1143178814916370438, 'id_str': '1143178814916370438', 'name': 'Nadia', 'screen_name': 'Nadiazanjani', 'location': 'London, England', 'description': '', 'url': None, 'entities': {'description': {'urls': []}}, 'protected': False, 'followers_count': 525, 'friends_count': 1086, 'listed_count': 0, 'created_at': 'Mon Jun 24 15:27:23 +0000 2019', 'favourites_count': 25964, 'utc_offset': None, 'time_zone': None, 'geo_enabled': False, 'verified': False, 'statuses_count': 5614, 'lang': None, 'contributors_enabled': False, 'is_translator': False, 'is_translation_enabled': False, 'profile_background_color': 'F5F8FA', 'profile_background_image_url': None, 'profile_background_image_url_https': None, 'profile_background_tile': False, 'profile_image_url': 'http://pbs.twimg.com/profile_images/1178698771288481792/Dt4cWAuo_normal.jpg', 'profile_image_url_https': 'https://pbs.twimg.com/profile_images/1178698771288481792/Dt4cWAuo_normal.jpg', 'profile_link_color': '1DA1F2', 'profile_sidebar_border_color': 'C0DEED', 'profile_sidebar_fill_color': 'DDEEF6', 'profile_text_color': '333333', 'profile_use_background_image': True, 'has_extended_profile': False, 'default_profile': True, 'default_profile_image': False, 'following': False, 'follow_request_sent': False, 'notifications': False, 'translator_type': 'none'}, id=1143178814916370438, id_str='1143178814916370438', name='Nadia', screen_name='Nadiazanjani', location='London, England', description='', url=None, entities={'description': {'urls': []}}, protected=False, followers_count=525, friends_count=1086, listed_count=0, created_at=datetime.datetime(2019, 6, 24, 15, 27, 23), favourites_count=25964, utc_offset=None, time_zone=None, geo_enabled=False, verified=False, statuses_count=5614, lang=None, contributors_enabled=False, is_translator=False, is_translation_enabled=False, profile_background_color='F5F8FA', profile_background_image_url=None, profile_background_image_url_https=None, profile_background_tile=False, profile_image_url='http://pbs.twimg.com/profile_images/1178698771288481792/Dt4cWAuo_normal.jpg', profile_image_url_https='https://pbs.twimg.com/profile_images/1178698771288481792/Dt4cWAuo_normal.jpg', profile_link_color='1DA1F2', profile_sidebar_border_color='C0DEED', profile_sidebar_fill_color='DDEEF6', profile_text_color='333333', profile_use_background_image=True, has_extended_profile=False, default_profile=True, default_profile_image=False, following=False, follow_request_sent=False, notifications=False, translator_type='none'), user=User(_api=<tweepy.api.API object at 0x000001FB13C61100>, _json={'id': 1143178814916370438, 'id_str': '1143178814916370438', 'name': 'Nadia', 'screen_name': 'Nadiazanjani', 'location': 'London, England', 'description': '', 'url': None, 'entities': {'description': {'urls': []}}, 'protected': False, 'followers_count': 525, 'friends_count': 1086, 'listed_count': 0, 'created_at': 'Mon Jun 24 15:27:23 +0000 2019', 'favourites_count': 25964, 'utc_offset': None, 'time_zone': None, 'geo_enabled': False, 'verified': False, 'statuses_count': 5614, 'lang': None, 'contributors_enabled': False, 'is_translator': False, 'is_translation_enabled': False, 'profile_background_color': 'F5F8FA', 'profile_background_image_url': None, 'profile_background_image_url_https': None, 'profile_background_tile': False, 'profile_image_url': 'http://pbs.twimg.com/profile_images/1178698771288481792/Dt4cWAuo_normal.jpg', 'profile_image_url_https': 'https://pbs.twimg.com/profile_images/1178698771288481792/Dt4cWAuo_normal.jpg', 'profile_link_color': '1DA1F2', 'profile_sidebar_border_color': 'C0DEED', 'profile_sidebar_fill_color': 'DDEEF6', 'profile_text_color': '333333', 'profile_use_background_image': True, 'has_extended_profile': False, 'default_profile': True, 'default_profile_image': False, 'following': False, 'follow_request_sent': False, 'notifications': False, 'translator_type': 'none'}, id=1143178814916370438, id_str='1143178814916370438', name='Nadia', screen_name='Nadiazanjani', location='London, England', description='', url=None, entities={'description': {'urls': []}}, protected=False, followers_count=525, friends_count=1086, listed_count=0, created_at=datetime.datetime(2019, 6, 24, 15, 27, 23), favourites_count=25964, utc_offset=None, time_zone=None, geo_enabled=False, verified=False, statuses_count=5614, lang=None, contributors_enabled=False, is_translator=False, is_translation_enabled=False, profile_background_color='F5F8FA', profile_background_image_url=None, profile_background_image_url_https=None, profile_background_tile=False, profile_image_url='http://pbs.twimg.com/profile_images/1178698771288481792/Dt4cWAuo_normal.jpg', profile_image_url_https='https://pbs.twimg.com/profile_images/1178698771288481792/Dt4cWAuo_normal.jpg', profile_link_color='1DA1F2', profile_sidebar_border_color='C0DEED', profile_sidebar_fill_color='DDEEF6', profile_text_color='333333', profile_use_background_image=True, has_extended_profile=False, default_profile=True, default_profile_image=False, following=False, follow_request_sent=False, notifications=False, translator_type='none'), geo=None, coordinates=None, place=None, contributors=None, is_quote_status=False, retweet_count=0, favorite_count=0, favorited=False, retweeted=False, lang='en') \n",
      "\n",
      ".......................................\n",
      "\n",
      "Status(_api=<tweepy.api.API object at 0x000001FB13C61100>, _json={'created_at': 'Thu Nov 19 00:23:00 +0000 2020', 'id': 1329218581989523457, 'id_str': '1329218581989523457', 'full_text': 'The U.S. continues to out-pace the world in COVID-19 deaths, passing the grim mark of 250,000.\\n\\nAlso U.S. #1 in new cases today: 168,518, #2 is India with 45,439\\n\\nhttps://t.co/wRCWZnfx3g', 'truncated': False, 'display_text_range': [0, 186], 'entities': {'hashtags': [], 'symbols': [], 'user_mentions': [], 'urls': [{'url': 'https://t.co/wRCWZnfx3g', 'expanded_url': 'https://kutv.com/news/coronavirus/us-coronavirus-death-toll-tops-250000-the-highest-in-world', 'display_url': 'kutv.com/news/coronavir…', 'indices': [163, 186]}]}, 'metadata': {'iso_language_code': 'en', 'result_type': 'recent'}, 'source': '<a href=\"https://about.twitter.com/products/tweetdeck\" rel=\"nofollow\">TweetDeck</a>', 'in_reply_to_status_id': None, 'in_reply_to_status_id_str': None, 'in_reply_to_user_id': None, 'in_reply_to_user_id_str': None, 'in_reply_to_screen_name': None, 'user': {'id': 21901715, 'id_str': '21901715', 'name': 'KUTV2news', 'screen_name': 'KUTV2News', 'location': 'Utah', 'description': \"Utah's #1 source for breaking news, weather and sports. TIPS: (801) 839-1222, Facebook, Instagram, Snapchat: @KUTV2News\", 'url': 'https://t.co/eYTzNW19aN', 'entities': {'url': {'urls': [{'url': 'https://t.co/eYTzNW19aN', 'expanded_url': 'http://kutv.com/', 'display_url': 'kutv.com', 'indices': [0, 23]}]}, 'description': {'urls': []}}, 'protected': False, 'followers_count': 118962, 'friends_count': 1065, 'listed_count': 1320, 'created_at': 'Wed Feb 25 18:53:36 +0000 2009', 'favourites_count': 4544, 'utc_offset': None, 'time_zone': None, 'geo_enabled': True, 'verified': True, 'statuses_count': 212221, 'lang': None, 'contributors_enabled': False, 'is_translator': False, 'is_translation_enabled': False, 'profile_background_color': '222222', 'profile_background_image_url': 'http://abs.twimg.com/images/themes/theme1/bg.png', 'profile_background_image_url_https': 'https://abs.twimg.com/images/themes/theme1/bg.png', 'profile_background_tile': False, 'profile_image_url': 'http://pbs.twimg.com/profile_images/1179496414696464384/6R4JodNA_normal.jpg', 'profile_image_url_https': 'https://pbs.twimg.com/profile_images/1179496414696464384/6R4JodNA_normal.jpg', 'profile_banner_url': 'https://pbs.twimg.com/profile_banners/21901715/1605638740', 'profile_link_color': '222222', 'profile_sidebar_border_color': 'FFFFFF', 'profile_sidebar_fill_color': 'EFEFEF', 'profile_text_color': '333333', 'profile_use_background_image': True, 'has_extended_profile': False, 'default_profile': False, 'default_profile_image': False, 'following': False, 'follow_request_sent': False, 'notifications': False, 'translator_type': 'none'}, 'geo': None, 'coordinates': None, 'place': None, 'contributors': None, 'is_quote_status': False, 'retweet_count': 0, 'favorite_count': 4, 'favorited': False, 'retweeted': False, 'possibly_sensitive': False, 'lang': 'en'}, created_at=datetime.datetime(2020, 11, 19, 0, 23), id=1329218581989523457, id_str='1329218581989523457', full_text='The U.S. continues to out-pace the world in COVID-19 deaths, passing the grim mark of 250,000.\\n\\nAlso U.S. #1 in new cases today: 168,518, #2 is India with 45,439\\n\\nhttps://t.co/wRCWZnfx3g', truncated=False, display_text_range=[0, 186], entities={'hashtags': [], 'symbols': [], 'user_mentions': [], 'urls': [{'url': 'https://t.co/wRCWZnfx3g', 'expanded_url': 'https://kutv.com/news/coronavirus/us-coronavirus-death-toll-tops-250000-the-highest-in-world', 'display_url': 'kutv.com/news/coronavir…', 'indices': [163, 186]}]}, metadata={'iso_language_code': 'en', 'result_type': 'recent'}, source='TweetDeck', source_url='https://about.twitter.com/products/tweetdeck', in_reply_to_status_id=None, in_reply_to_status_id_str=None, in_reply_to_user_id=None, in_reply_to_user_id_str=None, in_reply_to_screen_name=None, author=User(_api=<tweepy.api.API object at 0x000001FB13C61100>, _json={'id': 21901715, 'id_str': '21901715', 'name': 'KUTV2news', 'screen_name': 'KUTV2News', 'location': 'Utah', 'description': \"Utah's #1 source for breaking news, weather and sports. TIPS: (801) 839-1222, Facebook, Instagram, Snapchat: @KUTV2News\", 'url': 'https://t.co/eYTzNW19aN', 'entities': {'url': {'urls': [{'url': 'https://t.co/eYTzNW19aN', 'expanded_url': 'http://kutv.com/', 'display_url': 'kutv.com', 'indices': [0, 23]}]}, 'description': {'urls': []}}, 'protected': False, 'followers_count': 118962, 'friends_count': 1065, 'listed_count': 1320, 'created_at': 'Wed Feb 25 18:53:36 +0000 2009', 'favourites_count': 4544, 'utc_offset': None, 'time_zone': None, 'geo_enabled': True, 'verified': True, 'statuses_count': 212221, 'lang': None, 'contributors_enabled': False, 'is_translator': False, 'is_translation_enabled': False, 'profile_background_color': '222222', 'profile_background_image_url': 'http://abs.twimg.com/images/themes/theme1/bg.png', 'profile_background_image_url_https': 'https://abs.twimg.com/images/themes/theme1/bg.png', 'profile_background_tile': False, 'profile_image_url': 'http://pbs.twimg.com/profile_images/1179496414696464384/6R4JodNA_normal.jpg', 'profile_image_url_https': 'https://pbs.twimg.com/profile_images/1179496414696464384/6R4JodNA_normal.jpg', 'profile_banner_url': 'https://pbs.twimg.com/profile_banners/21901715/1605638740', 'profile_link_color': '222222', 'profile_sidebar_border_color': 'FFFFFF', 'profile_sidebar_fill_color': 'EFEFEF', 'profile_text_color': '333333', 'profile_use_background_image': True, 'has_extended_profile': False, 'default_profile': False, 'default_profile_image': False, 'following': False, 'follow_request_sent': False, 'notifications': False, 'translator_type': 'none'}, id=21901715, id_str='21901715', name='KUTV2news', screen_name='KUTV2News', location='Utah', description=\"Utah's #1 source for breaking news, weather and sports. TIPS: (801) 839-1222, Facebook, Instagram, Snapchat: @KUTV2News\", url='https://t.co/eYTzNW19aN', entities={'url': {'urls': [{'url': 'https://t.co/eYTzNW19aN', 'expanded_url': 'http://kutv.com/', 'display_url': 'kutv.com', 'indices': [0, 23]}]}, 'description': {'urls': []}}, protected=False, followers_count=118962, friends_count=1065, listed_count=1320, created_at=datetime.datetime(2009, 2, 25, 18, 53, 36), favourites_count=4544, utc_offset=None, time_zone=None, geo_enabled=True, verified=True, statuses_count=212221, lang=None, contributors_enabled=False, is_translator=False, is_translation_enabled=False, profile_background_color='222222', profile_background_image_url='http://abs.twimg.com/images/themes/theme1/bg.png', profile_background_image_url_https='https://abs.twimg.com/images/themes/theme1/bg.png', profile_background_tile=False, profile_image_url='http://pbs.twimg.com/profile_images/1179496414696464384/6R4JodNA_normal.jpg', profile_image_url_https='https://pbs.twimg.com/profile_images/1179496414696464384/6R4JodNA_normal.jpg', profile_banner_url='https://pbs.twimg.com/profile_banners/21901715/1605638740', profile_link_color='222222', profile_sidebar_border_color='FFFFFF', profile_sidebar_fill_color='EFEFEF', profile_text_color='333333', profile_use_background_image=True, has_extended_profile=False, default_profile=False, default_profile_image=False, following=False, follow_request_sent=False, notifications=False, translator_type='none'), user=User(_api=<tweepy.api.API object at 0x000001FB13C61100>, _json={'id': 21901715, 'id_str': '21901715', 'name': 'KUTV2news', 'screen_name': 'KUTV2News', 'location': 'Utah', 'description': \"Utah's #1 source for breaking news, weather and sports. TIPS: (801) 839-1222, Facebook, Instagram, Snapchat: @KUTV2News\", 'url': 'https://t.co/eYTzNW19aN', 'entities': {'url': {'urls': [{'url': 'https://t.co/eYTzNW19aN', 'expanded_url': 'http://kutv.com/', 'display_url': 'kutv.com', 'indices': [0, 23]}]}, 'description': {'urls': []}}, 'protected': False, 'followers_count': 118962, 'friends_count': 1065, 'listed_count': 1320, 'created_at': 'Wed Feb 25 18:53:36 +0000 2009', 'favourites_count': 4544, 'utc_offset': None, 'time_zone': None, 'geo_enabled': True, 'verified': True, 'statuses_count': 212221, 'lang': None, 'contributors_enabled': False, 'is_translator': False, 'is_translation_enabled': False, 'profile_background_color': '222222', 'profile_background_image_url': 'http://abs.twimg.com/images/themes/theme1/bg.png', 'profile_background_image_url_https': 'https://abs.twimg.com/images/themes/theme1/bg.png', 'profile_background_tile': False, 'profile_image_url': 'http://pbs.twimg.com/profile_images/1179496414696464384/6R4JodNA_normal.jpg', 'profile_image_url_https': 'https://pbs.twimg.com/profile_images/1179496414696464384/6R4JodNA_normal.jpg', 'profile_banner_url': 'https://pbs.twimg.com/profile_banners/21901715/1605638740', 'profile_link_color': '222222', 'profile_sidebar_border_color': 'FFFFFF', 'profile_sidebar_fill_color': 'EFEFEF', 'profile_text_color': '333333', 'profile_use_background_image': True, 'has_extended_profile': False, 'default_profile': False, 'default_profile_image': False, 'following': False, 'follow_request_sent': False, 'notifications': False, 'translator_type': 'none'}, id=21901715, id_str='21901715', name='KUTV2news', screen_name='KUTV2News', location='Utah', description=\"Utah's #1 source for breaking news, weather and sports. TIPS: (801) 839-1222, Facebook, Instagram, Snapchat: @KUTV2News\", url='https://t.co/eYTzNW19aN', entities={'url': {'urls': [{'url': 'https://t.co/eYTzNW19aN', 'expanded_url': 'http://kutv.com/', 'display_url': 'kutv.com', 'indices': [0, 23]}]}, 'description': {'urls': []}}, protected=False, followers_count=118962, friends_count=1065, listed_count=1320, created_at=datetime.datetime(2009, 2, 25, 18, 53, 36), favourites_count=4544, utc_offset=None, time_zone=None, geo_enabled=True, verified=True, statuses_count=212221, lang=None, contributors_enabled=False, is_translator=False, is_translation_enabled=False, profile_background_color='222222', profile_background_image_url='http://abs.twimg.com/images/themes/theme1/bg.png', profile_background_image_url_https='https://abs.twimg.com/images/themes/theme1/bg.png', profile_background_tile=False, profile_image_url='http://pbs.twimg.com/profile_images/1179496414696464384/6R4JodNA_normal.jpg', profile_image_url_https='https://pbs.twimg.com/profile_images/1179496414696464384/6R4JodNA_normal.jpg', profile_banner_url='https://pbs.twimg.com/profile_banners/21901715/1605638740', profile_link_color='222222', profile_sidebar_border_color='FFFFFF', profile_sidebar_fill_color='EFEFEF', profile_text_color='333333', profile_use_background_image=True, has_extended_profile=False, default_profile=False, default_profile_image=False, following=False, follow_request_sent=False, notifications=False, translator_type='none'), geo=None, coordinates=None, place=None, contributors=None, is_quote_status=False, retweet_count=0, favorite_count=4, favorited=False, retweeted=False, possibly_sensitive=False, lang='en') \n",
      "\n",
      ".......................................\n",
      "\n",
      "Status(_api=<tweepy.api.API object at 0x000001FB13C61100>, _json={'created_at': 'Wed Nov 18 23:58:58 +0000 2020', 'id': 1329212534474371075, 'id_str': '1329212534474371075', 'full_text': '@Travisdhanraj Unsurprisingly, it is becoming clear that children are spreaders of this virus like all others. Why would we believe otherwise? \\nhttps://t.co/EUtclqaShB', 'truncated': False, 'display_text_range': [15, 167], 'entities': {'hashtags': [], 'symbols': [], 'user_mentions': [{'screen_name': 'Travisdhanraj', 'name': 'Travis Dhanraj', 'id': 67805368, 'id_str': '67805368', 'indices': [0, 14]}], 'urls': [{'url': 'https://t.co/EUtclqaShB', 'expanded_url': 'https://www.npr.org/sections/goatsandsoda/2020/10/01/919237103/kids-and-superspreaders-are-driving-covid-19-cases-in-india-huge-study-finds', 'display_url': 'npr.org/sections/goats…', 'indices': [144, 167]}]}, 'metadata': {'iso_language_code': 'en', 'result_type': 'recent'}, 'source': '<a href=\"http://twitter.com/download/android\" rel=\"nofollow\">Twitter for Android</a>', 'in_reply_to_status_id': 1329107702933565442, 'in_reply_to_status_id_str': '1329107702933565442', 'in_reply_to_user_id': 67805368, 'in_reply_to_user_id_str': '67805368', 'in_reply_to_screen_name': 'Travisdhanraj', 'user': {'id': 15473210, 'id_str': '15473210', 'name': 'Dr Kathy Hibbert', 'screen_name': 'khibbert', 'location': 'London Canada', 'description': 'Acting Dean, Faculty of Education; \\nProf. @WesternUEdu; Supervisor of the best graduate students ever!', 'url': 'https://t.co/NuV5C1Jiqu', 'entities': {'url': {'urls': [{'url': 'https://t.co/NuV5C1Jiqu', 'expanded_url': 'https://www.edu.uwo.ca/faculty-profiles/kathryn-hibbert.html', 'display_url': 'edu.uwo.ca/faculty-profil…', 'indices': [0, 23]}]}, 'description': {'urls': []}}, 'protected': False, 'followers_count': 1569, 'friends_count': 1728, 'listed_count': 92, 'created_at': 'Thu Jul 17 20:24:08 +0000 2008', 'favourites_count': 5155, 'utc_offset': None, 'time_zone': None, 'geo_enabled': True, 'verified': False, 'statuses_count': 4352, 'lang': None, 'contributors_enabled': False, 'is_translator': False, 'is_translation_enabled': False, 'profile_background_color': '9AE4E8', 'profile_background_image_url': 'http://abs.twimg.com/images/themes/theme16/bg.gif', 'profile_background_image_url_https': 'https://abs.twimg.com/images/themes/theme16/bg.gif', 'profile_background_tile': False, 'profile_image_url': 'http://pbs.twimg.com/profile_images/1304586884048400385/LkQZBcBL_normal.jpg', 'profile_image_url_https': 'https://pbs.twimg.com/profile_images/1304586884048400385/LkQZBcBL_normal.jpg', 'profile_banner_url': 'https://pbs.twimg.com/profile_banners/15473210/1467219780', 'profile_link_color': '0084B4', 'profile_sidebar_border_color': 'BDDCAD', 'profile_sidebar_fill_color': 'DDFFCC', 'profile_text_color': '333333', 'profile_use_background_image': True, 'has_extended_profile': False, 'default_profile': False, 'default_profile_image': False, 'following': False, 'follow_request_sent': False, 'notifications': False, 'translator_type': 'none'}, 'geo': None, 'coordinates': None, 'place': None, 'contributors': None, 'is_quote_status': False, 'retweet_count': 0, 'favorite_count': 0, 'favorited': False, 'retweeted': False, 'possibly_sensitive': False, 'lang': 'en'}, created_at=datetime.datetime(2020, 11, 18, 23, 58, 58), id=1329212534474371075, id_str='1329212534474371075', full_text='@Travisdhanraj Unsurprisingly, it is becoming clear that children are spreaders of this virus like all others. Why would we believe otherwise? \\nhttps://t.co/EUtclqaShB', truncated=False, display_text_range=[15, 167], entities={'hashtags': [], 'symbols': [], 'user_mentions': [{'screen_name': 'Travisdhanraj', 'name': 'Travis Dhanraj', 'id': 67805368, 'id_str': '67805368', 'indices': [0, 14]}], 'urls': [{'url': 'https://t.co/EUtclqaShB', 'expanded_url': 'https://www.npr.org/sections/goatsandsoda/2020/10/01/919237103/kids-and-superspreaders-are-driving-covid-19-cases-in-india-huge-study-finds', 'display_url': 'npr.org/sections/goats…', 'indices': [144, 167]}]}, metadata={'iso_language_code': 'en', 'result_type': 'recent'}, source='Twitter for Android', source_url='http://twitter.com/download/android', in_reply_to_status_id=1329107702933565442, in_reply_to_status_id_str='1329107702933565442', in_reply_to_user_id=67805368, in_reply_to_user_id_str='67805368', in_reply_to_screen_name='Travisdhanraj', author=User(_api=<tweepy.api.API object at 0x000001FB13C61100>, _json={'id': 15473210, 'id_str': '15473210', 'name': 'Dr Kathy Hibbert', 'screen_name': 'khibbert', 'location': 'London Canada', 'description': 'Acting Dean, Faculty of Education; \\nProf. @WesternUEdu; Supervisor of the best graduate students ever!', 'url': 'https://t.co/NuV5C1Jiqu', 'entities': {'url': {'urls': [{'url': 'https://t.co/NuV5C1Jiqu', 'expanded_url': 'https://www.edu.uwo.ca/faculty-profiles/kathryn-hibbert.html', 'display_url': 'edu.uwo.ca/faculty-profil…', 'indices': [0, 23]}]}, 'description': {'urls': []}}, 'protected': False, 'followers_count': 1569, 'friends_count': 1728, 'listed_count': 92, 'created_at': 'Thu Jul 17 20:24:08 +0000 2008', 'favourites_count': 5155, 'utc_offset': None, 'time_zone': None, 'geo_enabled': True, 'verified': False, 'statuses_count': 4352, 'lang': None, 'contributors_enabled': False, 'is_translator': False, 'is_translation_enabled': False, 'profile_background_color': '9AE4E8', 'profile_background_image_url': 'http://abs.twimg.com/images/themes/theme16/bg.gif', 'profile_background_image_url_https': 'https://abs.twimg.com/images/themes/theme16/bg.gif', 'profile_background_tile': False, 'profile_image_url': 'http://pbs.twimg.com/profile_images/1304586884048400385/LkQZBcBL_normal.jpg', 'profile_image_url_https': 'https://pbs.twimg.com/profile_images/1304586884048400385/LkQZBcBL_normal.jpg', 'profile_banner_url': 'https://pbs.twimg.com/profile_banners/15473210/1467219780', 'profile_link_color': '0084B4', 'profile_sidebar_border_color': 'BDDCAD', 'profile_sidebar_fill_color': 'DDFFCC', 'profile_text_color': '333333', 'profile_use_background_image': True, 'has_extended_profile': False, 'default_profile': False, 'default_profile_image': False, 'following': False, 'follow_request_sent': False, 'notifications': False, 'translator_type': 'none'}, id=15473210, id_str='15473210', name='Dr Kathy Hibbert', screen_name='khibbert', location='London Canada', description='Acting Dean, Faculty of Education; \\nProf. @WesternUEdu; Supervisor of the best graduate students ever!', url='https://t.co/NuV5C1Jiqu', entities={'url': {'urls': [{'url': 'https://t.co/NuV5C1Jiqu', 'expanded_url': 'https://www.edu.uwo.ca/faculty-profiles/kathryn-hibbert.html', 'display_url': 'edu.uwo.ca/faculty-profil…', 'indices': [0, 23]}]}, 'description': {'urls': []}}, protected=False, followers_count=1569, friends_count=1728, listed_count=92, created_at=datetime.datetime(2008, 7, 17, 20, 24, 8), favourites_count=5155, utc_offset=None, time_zone=None, geo_enabled=True, verified=False, statuses_count=4352, lang=None, contributors_enabled=False, is_translator=False, is_translation_enabled=False, profile_background_color='9AE4E8', profile_background_image_url='http://abs.twimg.com/images/themes/theme16/bg.gif', profile_background_image_url_https='https://abs.twimg.com/images/themes/theme16/bg.gif', profile_background_tile=False, profile_image_url='http://pbs.twimg.com/profile_images/1304586884048400385/LkQZBcBL_normal.jpg', profile_image_url_https='https://pbs.twimg.com/profile_images/1304586884048400385/LkQZBcBL_normal.jpg', profile_banner_url='https://pbs.twimg.com/profile_banners/15473210/1467219780', profile_link_color='0084B4', profile_sidebar_border_color='BDDCAD', profile_sidebar_fill_color='DDFFCC', profile_text_color='333333', profile_use_background_image=True, has_extended_profile=False, default_profile=False, default_profile_image=False, following=False, follow_request_sent=False, notifications=False, translator_type='none'), user=User(_api=<tweepy.api.API object at 0x000001FB13C61100>, _json={'id': 15473210, 'id_str': '15473210', 'name': 'Dr Kathy Hibbert', 'screen_name': 'khibbert', 'location': 'London Canada', 'description': 'Acting Dean, Faculty of Education; \\nProf. @WesternUEdu; Supervisor of the best graduate students ever!', 'url': 'https://t.co/NuV5C1Jiqu', 'entities': {'url': {'urls': [{'url': 'https://t.co/NuV5C1Jiqu', 'expanded_url': 'https://www.edu.uwo.ca/faculty-profiles/kathryn-hibbert.html', 'display_url': 'edu.uwo.ca/faculty-profil…', 'indices': [0, 23]}]}, 'description': {'urls': []}}, 'protected': False, 'followers_count': 1569, 'friends_count': 1728, 'listed_count': 92, 'created_at': 'Thu Jul 17 20:24:08 +0000 2008', 'favourites_count': 5155, 'utc_offset': None, 'time_zone': None, 'geo_enabled': True, 'verified': False, 'statuses_count': 4352, 'lang': None, 'contributors_enabled': False, 'is_translator': False, 'is_translation_enabled': False, 'profile_background_color': '9AE4E8', 'profile_background_image_url': 'http://abs.twimg.com/images/themes/theme16/bg.gif', 'profile_background_image_url_https': 'https://abs.twimg.com/images/themes/theme16/bg.gif', 'profile_background_tile': False, 'profile_image_url': 'http://pbs.twimg.com/profile_images/1304586884048400385/LkQZBcBL_normal.jpg', 'profile_image_url_https': 'https://pbs.twimg.com/profile_images/1304586884048400385/LkQZBcBL_normal.jpg', 'profile_banner_url': 'https://pbs.twimg.com/profile_banners/15473210/1467219780', 'profile_link_color': '0084B4', 'profile_sidebar_border_color': 'BDDCAD', 'profile_sidebar_fill_color': 'DDFFCC', 'profile_text_color': '333333', 'profile_use_background_image': True, 'has_extended_profile': False, 'default_profile': False, 'default_profile_image': False, 'following': False, 'follow_request_sent': False, 'notifications': False, 'translator_type': 'none'}, id=15473210, id_str='15473210', name='Dr Kathy Hibbert', screen_name='khibbert', location='London Canada', description='Acting Dean, Faculty of Education; \\nProf. @WesternUEdu; Supervisor of the best graduate students ever!', url='https://t.co/NuV5C1Jiqu', entities={'url': {'urls': [{'url': 'https://t.co/NuV5C1Jiqu', 'expanded_url': 'https://www.edu.uwo.ca/faculty-profiles/kathryn-hibbert.html', 'display_url': 'edu.uwo.ca/faculty-profil…', 'indices': [0, 23]}]}, 'description': {'urls': []}}, protected=False, followers_count=1569, friends_count=1728, listed_count=92, created_at=datetime.datetime(2008, 7, 17, 20, 24, 8), favourites_count=5155, utc_offset=None, time_zone=None, geo_enabled=True, verified=False, statuses_count=4352, lang=None, contributors_enabled=False, is_translator=False, is_translation_enabled=False, profile_background_color='9AE4E8', profile_background_image_url='http://abs.twimg.com/images/themes/theme16/bg.gif', profile_background_image_url_https='https://abs.twimg.com/images/themes/theme16/bg.gif', profile_background_tile=False, profile_image_url='http://pbs.twimg.com/profile_images/1304586884048400385/LkQZBcBL_normal.jpg', profile_image_url_https='https://pbs.twimg.com/profile_images/1304586884048400385/LkQZBcBL_normal.jpg', profile_banner_url='https://pbs.twimg.com/profile_banners/15473210/1467219780', profile_link_color='0084B4', profile_sidebar_border_color='BDDCAD', profile_sidebar_fill_color='DDFFCC', profile_text_color='333333', profile_use_background_image=True, has_extended_profile=False, default_profile=False, default_profile_image=False, following=False, follow_request_sent=False, notifications=False, translator_type='none'), geo=None, coordinates=None, place=None, contributors=None, is_quote_status=False, retweet_count=0, favorite_count=0, favorited=False, retweeted=False, possibly_sensitive=False, lang='en') \n",
      "\n",
      ".......................................\n",
      "\n",
      "Status(_api=<tweepy.api.API object at 0x000001FB13C61100>, _json={'created_at': 'Wed Nov 18 23:32:16 +0000 2020', 'id': 1329205816059195393, 'id_str': '1329205816059195393', 'full_text': '@rohini_sgh Delhi is now top in Covid-19 cases BJP blame Kejariwal But BJP responsible for Whole India! Nothing had&amp;has done by govt Only their projects is to win elections! Is in GDP NO JOBS BANK CRISIS r responsibility to Kejariwal!! Vaccines 💉 will come next year:HVardan \\nWorried 😟 abt', 'truncated': False, 'display_text_range': [12, 293], 'entities': {'hashtags': [], 'symbols': [], 'user_mentions': [{'screen_name': 'rohini_sgh', 'name': 'Rohini Singh', 'id': 267861878, 'id_str': '267861878', 'indices': [0, 11]}], 'urls': []}, 'metadata': {'iso_language_code': 'en', 'result_type': 'recent'}, 'source': '<a href=\"http://twitter.com/download/iphone\" rel=\"nofollow\">Twitter for iPhone</a>', 'in_reply_to_status_id': 1329123848160120833, 'in_reply_to_status_id_str': '1329123848160120833', 'in_reply_to_user_id': 267861878, 'in_reply_to_user_id_str': '267861878', 'in_reply_to_screen_name': 'rohini_sgh', 'user': {'id': 1310106015363485697, 'id_str': '1310106015363485697', 'name': 'carol ratenbury', 'screen_name': 'ratenbury', 'location': '', 'description': '', 'url': None, 'entities': {'description': {'urls': []}}, 'protected': False, 'followers_count': 1, 'friends_count': 58, 'listed_count': 0, 'created_at': 'Sun Sep 27 06:37:01 +0000 2020', 'favourites_count': 114, 'utc_offset': None, 'time_zone': None, 'geo_enabled': False, 'verified': False, 'statuses_count': 482, 'lang': None, 'contributors_enabled': False, 'is_translator': False, 'is_translation_enabled': False, 'profile_background_color': 'F5F8FA', 'profile_background_image_url': None, 'profile_background_image_url_https': None, 'profile_background_tile': False, 'profile_image_url': 'http://abs.twimg.com/sticky/default_profile_images/default_profile_normal.png', 'profile_image_url_https': 'https://abs.twimg.com/sticky/default_profile_images/default_profile_normal.png', 'profile_link_color': '1DA1F2', 'profile_sidebar_border_color': 'C0DEED', 'profile_sidebar_fill_color': 'DDEEF6', 'profile_text_color': '333333', 'profile_use_background_image': True, 'has_extended_profile': True, 'default_profile': True, 'default_profile_image': True, 'following': False, 'follow_request_sent': False, 'notifications': False, 'translator_type': 'none'}, 'geo': None, 'coordinates': None, 'place': None, 'contributors': None, 'is_quote_status': False, 'retweet_count': 0, 'favorite_count': 0, 'favorited': False, 'retweeted': False, 'lang': 'en'}, created_at=datetime.datetime(2020, 11, 18, 23, 32, 16), id=1329205816059195393, id_str='1329205816059195393', full_text='@rohini_sgh Delhi is now top in Covid-19 cases BJP blame Kejariwal But BJP responsible for Whole India! Nothing had&amp;has done by govt Only their projects is to win elections! Is in GDP NO JOBS BANK CRISIS r responsibility to Kejariwal!! Vaccines 💉 will come next year:HVardan \\nWorried 😟 abt', truncated=False, display_text_range=[12, 293], entities={'hashtags': [], 'symbols': [], 'user_mentions': [{'screen_name': 'rohini_sgh', 'name': 'Rohini Singh', 'id': 267861878, 'id_str': '267861878', 'indices': [0, 11]}], 'urls': []}, metadata={'iso_language_code': 'en', 'result_type': 'recent'}, source='Twitter for iPhone', source_url='http://twitter.com/download/iphone', in_reply_to_status_id=1329123848160120833, in_reply_to_status_id_str='1329123848160120833', in_reply_to_user_id=267861878, in_reply_to_user_id_str='267861878', in_reply_to_screen_name='rohini_sgh', author=User(_api=<tweepy.api.API object at 0x000001FB13C61100>, _json={'id': 1310106015363485697, 'id_str': '1310106015363485697', 'name': 'carol ratenbury', 'screen_name': 'ratenbury', 'location': '', 'description': '', 'url': None, 'entities': {'description': {'urls': []}}, 'protected': False, 'followers_count': 1, 'friends_count': 58, 'listed_count': 0, 'created_at': 'Sun Sep 27 06:37:01 +0000 2020', 'favourites_count': 114, 'utc_offset': None, 'time_zone': None, 'geo_enabled': False, 'verified': False, 'statuses_count': 482, 'lang': None, 'contributors_enabled': False, 'is_translator': False, 'is_translation_enabled': False, 'profile_background_color': 'F5F8FA', 'profile_background_image_url': None, 'profile_background_image_url_https': None, 'profile_background_tile': False, 'profile_image_url': 'http://abs.twimg.com/sticky/default_profile_images/default_profile_normal.png', 'profile_image_url_https': 'https://abs.twimg.com/sticky/default_profile_images/default_profile_normal.png', 'profile_link_color': '1DA1F2', 'profile_sidebar_border_color': 'C0DEED', 'profile_sidebar_fill_color': 'DDEEF6', 'profile_text_color': '333333', 'profile_use_background_image': True, 'has_extended_profile': True, 'default_profile': True, 'default_profile_image': True, 'following': False, 'follow_request_sent': False, 'notifications': False, 'translator_type': 'none'}, id=1310106015363485697, id_str='1310106015363485697', name='carol ratenbury', screen_name='ratenbury', location='', description='', url=None, entities={'description': {'urls': []}}, protected=False, followers_count=1, friends_count=58, listed_count=0, created_at=datetime.datetime(2020, 9, 27, 6, 37, 1), favourites_count=114, utc_offset=None, time_zone=None, geo_enabled=False, verified=False, statuses_count=482, lang=None, contributors_enabled=False, is_translator=False, is_translation_enabled=False, profile_background_color='F5F8FA', profile_background_image_url=None, profile_background_image_url_https=None, profile_background_tile=False, profile_image_url='http://abs.twimg.com/sticky/default_profile_images/default_profile_normal.png', profile_image_url_https='https://abs.twimg.com/sticky/default_profile_images/default_profile_normal.png', profile_link_color='1DA1F2', profile_sidebar_border_color='C0DEED', profile_sidebar_fill_color='DDEEF6', profile_text_color='333333', profile_use_background_image=True, has_extended_profile=True, default_profile=True, default_profile_image=True, following=False, follow_request_sent=False, notifications=False, translator_type='none'), user=User(_api=<tweepy.api.API object at 0x000001FB13C61100>, _json={'id': 1310106015363485697, 'id_str': '1310106015363485697', 'name': 'carol ratenbury', 'screen_name': 'ratenbury', 'location': '', 'description': '', 'url': None, 'entities': {'description': {'urls': []}}, 'protected': False, 'followers_count': 1, 'friends_count': 58, 'listed_count': 0, 'created_at': 'Sun Sep 27 06:37:01 +0000 2020', 'favourites_count': 114, 'utc_offset': None, 'time_zone': None, 'geo_enabled': False, 'verified': False, 'statuses_count': 482, 'lang': None, 'contributors_enabled': False, 'is_translator': False, 'is_translation_enabled': False, 'profile_background_color': 'F5F8FA', 'profile_background_image_url': None, 'profile_background_image_url_https': None, 'profile_background_tile': False, 'profile_image_url': 'http://abs.twimg.com/sticky/default_profile_images/default_profile_normal.png', 'profile_image_url_https': 'https://abs.twimg.com/sticky/default_profile_images/default_profile_normal.png', 'profile_link_color': '1DA1F2', 'profile_sidebar_border_color': 'C0DEED', 'profile_sidebar_fill_color': 'DDEEF6', 'profile_text_color': '333333', 'profile_use_background_image': True, 'has_extended_profile': True, 'default_profile': True, 'default_profile_image': True, 'following': False, 'follow_request_sent': False, 'notifications': False, 'translator_type': 'none'}, id=1310106015363485697, id_str='1310106015363485697', name='carol ratenbury', screen_name='ratenbury', location='', description='', url=None, entities={'description': {'urls': []}}, protected=False, followers_count=1, friends_count=58, listed_count=0, created_at=datetime.datetime(2020, 9, 27, 6, 37, 1), favourites_count=114, utc_offset=None, time_zone=None, geo_enabled=False, verified=False, statuses_count=482, lang=None, contributors_enabled=False, is_translator=False, is_translation_enabled=False, profile_background_color='F5F8FA', profile_background_image_url=None, profile_background_image_url_https=None, profile_background_tile=False, profile_image_url='http://abs.twimg.com/sticky/default_profile_images/default_profile_normal.png', profile_image_url_https='https://abs.twimg.com/sticky/default_profile_images/default_profile_normal.png', profile_link_color='1DA1F2', profile_sidebar_border_color='C0DEED', profile_sidebar_fill_color='DDEEF6', profile_text_color='333333', profile_use_background_image=True, has_extended_profile=True, default_profile=True, default_profile_image=True, following=False, follow_request_sent=False, notifications=False, translator_type='none'), geo=None, coordinates=None, place=None, contributors=None, is_quote_status=False, retweet_count=0, favorite_count=0, favorited=False, retweeted=False, lang='en') \n",
      "\n",
      ".......................................\n",
      "\n",
      "Status(_api=<tweepy.api.API object at 0x000001FB13C61100>, _json={'created_at': 'Wed Nov 18 23:24:01 +0000 2020', 'id': 1329203738163228672, 'id_str': '1329203738163228672', 'full_text': 'India has 1 Billion more people than USA\\n\\n(Populations: India 1.3 Billion, USA 300 Million)\\n\\nThe USA has 3 million more cases of COVID than India\\n\\nWhy are we literally being the most stubborn, ignorant, self harming country in the world right now?', 'truncated': False, 'display_text_range': [0, 247], 'entities': {'hashtags': [], 'symbols': [], 'user_mentions': [], 'urls': []}, 'metadata': {'iso_language_code': 'en', 'result_type': 'recent'}, 'source': '<a href=\"http://twitter.com/download/iphone\" rel=\"nofollow\">Twitter for iPhone</a>', 'in_reply_to_status_id': None, 'in_reply_to_status_id_str': None, 'in_reply_to_user_id': None, 'in_reply_to_user_id_str': None, 'in_reply_to_screen_name': None, 'user': {'id': 26880539, 'id_str': '26880539', 'name': 'L.Smith', 'screen_name': 'L_Smith_23', 'location': 'Houston', 'description': 'Dream Chaser/former University of Houston and Professional basketball player turned businessman', 'url': 'https://t.co/qSwgQQKukC', 'entities': {'url': {'urls': [{'url': 'https://t.co/qSwgQQKukC', 'expanded_url': 'http://activefaithsports.com', 'display_url': 'activefaithsports.com', 'indices': [0, 23]}]}, 'description': {'urls': []}}, 'protected': False, 'followers_count': 1978, 'friends_count': 1296, 'listed_count': 26, 'created_at': 'Thu Mar 26 23:04:52 +0000 2009', 'favourites_count': 8002, 'utc_offset': None, 'time_zone': None, 'geo_enabled': True, 'verified': False, 'statuses_count': 27682, 'lang': None, 'contributors_enabled': False, 'is_translator': False, 'is_translation_enabled': False, 'profile_background_color': '020D0D', 'profile_background_image_url': 'http://abs.twimg.com/images/themes/theme1/bg.png', 'profile_background_image_url_https': 'https://abs.twimg.com/images/themes/theme1/bg.png', 'profile_background_tile': False, 'profile_image_url': 'http://pbs.twimg.com/profile_images/1317609800591527936/_cZsgIX1_normal.jpg', 'profile_image_url_https': 'https://pbs.twimg.com/profile_images/1317609800591527936/_cZsgIX1_normal.jpg', 'profile_banner_url': 'https://pbs.twimg.com/profile_banners/26880539/1551202861', 'profile_link_color': 'B40000', 'profile_sidebar_border_color': 'FFFFFF', 'profile_sidebar_fill_color': '060404', 'profile_text_color': 'F01919', 'profile_use_background_image': True, 'has_extended_profile': False, 'default_profile': False, 'default_profile_image': False, 'following': False, 'follow_request_sent': False, 'notifications': False, 'translator_type': 'none'}, 'geo': None, 'coordinates': None, 'place': None, 'contributors': None, 'is_quote_status': False, 'retweet_count': 0, 'favorite_count': 1, 'favorited': False, 'retweeted': False, 'lang': 'en'}, created_at=datetime.datetime(2020, 11, 18, 23, 24, 1), id=1329203738163228672, id_str='1329203738163228672', full_text='India has 1 Billion more people than USA\\n\\n(Populations: India 1.3 Billion, USA 300 Million)\\n\\nThe USA has 3 million more cases of COVID than India\\n\\nWhy are we literally being the most stubborn, ignorant, self harming country in the world right now?', truncated=False, display_text_range=[0, 247], entities={'hashtags': [], 'symbols': [], 'user_mentions': [], 'urls': []}, metadata={'iso_language_code': 'en', 'result_type': 'recent'}, source='Twitter for iPhone', source_url='http://twitter.com/download/iphone', in_reply_to_status_id=None, in_reply_to_status_id_str=None, in_reply_to_user_id=None, in_reply_to_user_id_str=None, in_reply_to_screen_name=None, author=User(_api=<tweepy.api.API object at 0x000001FB13C61100>, _json={'id': 26880539, 'id_str': '26880539', 'name': 'L.Smith', 'screen_name': 'L_Smith_23', 'location': 'Houston', 'description': 'Dream Chaser/former University of Houston and Professional basketball player turned businessman', 'url': 'https://t.co/qSwgQQKukC', 'entities': {'url': {'urls': [{'url': 'https://t.co/qSwgQQKukC', 'expanded_url': 'http://activefaithsports.com', 'display_url': 'activefaithsports.com', 'indices': [0, 23]}]}, 'description': {'urls': []}}, 'protected': False, 'followers_count': 1978, 'friends_count': 1296, 'listed_count': 26, 'created_at': 'Thu Mar 26 23:04:52 +0000 2009', 'favourites_count': 8002, 'utc_offset': None, 'time_zone': None, 'geo_enabled': True, 'verified': False, 'statuses_count': 27682, 'lang': None, 'contributors_enabled': False, 'is_translator': False, 'is_translation_enabled': False, 'profile_background_color': '020D0D', 'profile_background_image_url': 'http://abs.twimg.com/images/themes/theme1/bg.png', 'profile_background_image_url_https': 'https://abs.twimg.com/images/themes/theme1/bg.png', 'profile_background_tile': False, 'profile_image_url': 'http://pbs.twimg.com/profile_images/1317609800591527936/_cZsgIX1_normal.jpg', 'profile_image_url_https': 'https://pbs.twimg.com/profile_images/1317609800591527936/_cZsgIX1_normal.jpg', 'profile_banner_url': 'https://pbs.twimg.com/profile_banners/26880539/1551202861', 'profile_link_color': 'B40000', 'profile_sidebar_border_color': 'FFFFFF', 'profile_sidebar_fill_color': '060404', 'profile_text_color': 'F01919', 'profile_use_background_image': True, 'has_extended_profile': False, 'default_profile': False, 'default_profile_image': False, 'following': False, 'follow_request_sent': False, 'notifications': False, 'translator_type': 'none'}, id=26880539, id_str='26880539', name='L.Smith', screen_name='L_Smith_23', location='Houston', description='Dream Chaser/former University of Houston and Professional basketball player turned businessman', url='https://t.co/qSwgQQKukC', entities={'url': {'urls': [{'url': 'https://t.co/qSwgQQKukC', 'expanded_url': 'http://activefaithsports.com', 'display_url': 'activefaithsports.com', 'indices': [0, 23]}]}, 'description': {'urls': []}}, protected=False, followers_count=1978, friends_count=1296, listed_count=26, created_at=datetime.datetime(2009, 3, 26, 23, 4, 52), favourites_count=8002, utc_offset=None, time_zone=None, geo_enabled=True, verified=False, statuses_count=27682, lang=None, contributors_enabled=False, is_translator=False, is_translation_enabled=False, profile_background_color='020D0D', profile_background_image_url='http://abs.twimg.com/images/themes/theme1/bg.png', profile_background_image_url_https='https://abs.twimg.com/images/themes/theme1/bg.png', profile_background_tile=False, profile_image_url='http://pbs.twimg.com/profile_images/1317609800591527936/_cZsgIX1_normal.jpg', profile_image_url_https='https://pbs.twimg.com/profile_images/1317609800591527936/_cZsgIX1_normal.jpg', profile_banner_url='https://pbs.twimg.com/profile_banners/26880539/1551202861', profile_link_color='B40000', profile_sidebar_border_color='FFFFFF', profile_sidebar_fill_color='060404', profile_text_color='F01919', profile_use_background_image=True, has_extended_profile=False, default_profile=False, default_profile_image=False, following=False, follow_request_sent=False, notifications=False, translator_type='none'), user=User(_api=<tweepy.api.API object at 0x000001FB13C61100>, _json={'id': 26880539, 'id_str': '26880539', 'name': 'L.Smith', 'screen_name': 'L_Smith_23', 'location': 'Houston', 'description': 'Dream Chaser/former University of Houston and Professional basketball player turned businessman', 'url': 'https://t.co/qSwgQQKukC', 'entities': {'url': {'urls': [{'url': 'https://t.co/qSwgQQKukC', 'expanded_url': 'http://activefaithsports.com', 'display_url': 'activefaithsports.com', 'indices': [0, 23]}]}, 'description': {'urls': []}}, 'protected': False, 'followers_count': 1978, 'friends_count': 1296, 'listed_count': 26, 'created_at': 'Thu Mar 26 23:04:52 +0000 2009', 'favourites_count': 8002, 'utc_offset': None, 'time_zone': None, 'geo_enabled': True, 'verified': False, 'statuses_count': 27682, 'lang': None, 'contributors_enabled': False, 'is_translator': False, 'is_translation_enabled': False, 'profile_background_color': '020D0D', 'profile_background_image_url': 'http://abs.twimg.com/images/themes/theme1/bg.png', 'profile_background_image_url_https': 'https://abs.twimg.com/images/themes/theme1/bg.png', 'profile_background_tile': False, 'profile_image_url': 'http://pbs.twimg.com/profile_images/1317609800591527936/_cZsgIX1_normal.jpg', 'profile_image_url_https': 'https://pbs.twimg.com/profile_images/1317609800591527936/_cZsgIX1_normal.jpg', 'profile_banner_url': 'https://pbs.twimg.com/profile_banners/26880539/1551202861', 'profile_link_color': 'B40000', 'profile_sidebar_border_color': 'FFFFFF', 'profile_sidebar_fill_color': '060404', 'profile_text_color': 'F01919', 'profile_use_background_image': True, 'has_extended_profile': False, 'default_profile': False, 'default_profile_image': False, 'following': False, 'follow_request_sent': False, 'notifications': False, 'translator_type': 'none'}, id=26880539, id_str='26880539', name='L.Smith', screen_name='L_Smith_23', location='Houston', description='Dream Chaser/former University of Houston and Professional basketball player turned businessman', url='https://t.co/qSwgQQKukC', entities={'url': {'urls': [{'url': 'https://t.co/qSwgQQKukC', 'expanded_url': 'http://activefaithsports.com', 'display_url': 'activefaithsports.com', 'indices': [0, 23]}]}, 'description': {'urls': []}}, protected=False, followers_count=1978, friends_count=1296, listed_count=26, created_at=datetime.datetime(2009, 3, 26, 23, 4, 52), favourites_count=8002, utc_offset=None, time_zone=None, geo_enabled=True, verified=False, statuses_count=27682, lang=None, contributors_enabled=False, is_translator=False, is_translation_enabled=False, profile_background_color='020D0D', profile_background_image_url='http://abs.twimg.com/images/themes/theme1/bg.png', profile_background_image_url_https='https://abs.twimg.com/images/themes/theme1/bg.png', profile_background_tile=False, profile_image_url='http://pbs.twimg.com/profile_images/1317609800591527936/_cZsgIX1_normal.jpg', profile_image_url_https='https://pbs.twimg.com/profile_images/1317609800591527936/_cZsgIX1_normal.jpg', profile_banner_url='https://pbs.twimg.com/profile_banners/26880539/1551202861', profile_link_color='B40000', profile_sidebar_border_color='FFFFFF', profile_sidebar_fill_color='060404', profile_text_color='F01919', profile_use_background_image=True, has_extended_profile=False, default_profile=False, default_profile_image=False, following=False, follow_request_sent=False, notifications=False, translator_type='none'), geo=None, coordinates=None, place=None, contributors=None, is_quote_status=False, retweet_count=0, favorite_count=1, favorited=False, retweeted=False, lang='en') \n",
      "\n",
      ".......................................\n",
      "\n",
      "Status(_api=<tweepy.api.API object at 0x000001FB13C61100>, _json={'created_at': 'Wed Nov 18 23:15:14 +0000 2020', 'id': 1329201529270616066, 'id_str': '1329201529270616066', 'full_text': \"@NorbertElekes @LadyVelvet_HFQ India stopped testing and contact tracking. A friend's family had 5 active cases and they did get treated in Pvt hospital and things were regular in tha home, with drivers and maids on work. Another case a 50 y old admitted for Mi found to be a covid infected. Family not tested.\", 'truncated': False, 'display_text_range': [31, 310], 'entities': {'hashtags': [], 'symbols': [], 'user_mentions': [{'screen_name': 'NorbertElekes', 'name': 'Norbert Elekes', 'id': 292558545, 'id_str': '292558545', 'indices': [0, 14]}, {'screen_name': 'LadyVelvet_HFQ', 'name': 'Hend F Q', 'id': 448259967, 'id_str': '448259967', 'indices': [15, 30]}], 'urls': []}, 'metadata': {'iso_language_code': 'en', 'result_type': 'recent'}, 'source': '<a href=\"http://twitter.com/download/android\" rel=\"nofollow\">Twitter for Android</a>', 'in_reply_to_status_id': 1329117503520387075, 'in_reply_to_status_id_str': '1329117503520387075', 'in_reply_to_user_id': 292558545, 'in_reply_to_user_id_str': '292558545', 'in_reply_to_screen_name': 'NorbertElekes', 'user': {'id': 361086108, 'id_str': '361086108', 'name': 'martz', 'screen_name': 'vidiyalthedi', 'location': '', 'description': '', 'url': None, 'entities': {'description': {'urls': []}}, 'protected': False, 'followers_count': 27, 'friends_count': 124, 'listed_count': 0, 'created_at': 'Wed Aug 24 06:54:22 +0000 2011', 'favourites_count': 4665, 'utc_offset': None, 'time_zone': None, 'geo_enabled': False, 'verified': False, 'statuses_count': 3388, 'lang': None, 'contributors_enabled': False, 'is_translator': False, 'is_translation_enabled': False, 'profile_background_color': 'C0DEED', 'profile_background_image_url': 'http://abs.twimg.com/images/themes/theme1/bg.png', 'profile_background_image_url_https': 'https://abs.twimg.com/images/themes/theme1/bg.png', 'profile_background_tile': False, 'profile_image_url': 'http://pbs.twimg.com/profile_images/1320425336727715840/d2ment2l_normal.jpg', 'profile_image_url_https': 'https://pbs.twimg.com/profile_images/1320425336727715840/d2ment2l_normal.jpg', 'profile_link_color': '1DA1F2', 'profile_sidebar_border_color': 'C0DEED', 'profile_sidebar_fill_color': 'DDEEF6', 'profile_text_color': '333333', 'profile_use_background_image': True, 'has_extended_profile': False, 'default_profile': True, 'default_profile_image': False, 'following': False, 'follow_request_sent': False, 'notifications': False, 'translator_type': 'none'}, 'geo': None, 'coordinates': None, 'place': None, 'contributors': None, 'is_quote_status': False, 'retweet_count': 0, 'favorite_count': 0, 'favorited': False, 'retweeted': False, 'lang': 'en'}, created_at=datetime.datetime(2020, 11, 18, 23, 15, 14), id=1329201529270616066, id_str='1329201529270616066', full_text=\"@NorbertElekes @LadyVelvet_HFQ India stopped testing and contact tracking. A friend's family had 5 active cases and they did get treated in Pvt hospital and things were regular in tha home, with drivers and maids on work. Another case a 50 y old admitted for Mi found to be a covid infected. Family not tested.\", truncated=False, display_text_range=[31, 310], entities={'hashtags': [], 'symbols': [], 'user_mentions': [{'screen_name': 'NorbertElekes', 'name': 'Norbert Elekes', 'id': 292558545, 'id_str': '292558545', 'indices': [0, 14]}, {'screen_name': 'LadyVelvet_HFQ', 'name': 'Hend F Q', 'id': 448259967, 'id_str': '448259967', 'indices': [15, 30]}], 'urls': []}, metadata={'iso_language_code': 'en', 'result_type': 'recent'}, source='Twitter for Android', source_url='http://twitter.com/download/android', in_reply_to_status_id=1329117503520387075, in_reply_to_status_id_str='1329117503520387075', in_reply_to_user_id=292558545, in_reply_to_user_id_str='292558545', in_reply_to_screen_name='NorbertElekes', author=User(_api=<tweepy.api.API object at 0x000001FB13C61100>, _json={'id': 361086108, 'id_str': '361086108', 'name': 'martz', 'screen_name': 'vidiyalthedi', 'location': '', 'description': '', 'url': None, 'entities': {'description': {'urls': []}}, 'protected': False, 'followers_count': 27, 'friends_count': 124, 'listed_count': 0, 'created_at': 'Wed Aug 24 06:54:22 +0000 2011', 'favourites_count': 4665, 'utc_offset': None, 'time_zone': None, 'geo_enabled': False, 'verified': False, 'statuses_count': 3388, 'lang': None, 'contributors_enabled': False, 'is_translator': False, 'is_translation_enabled': False, 'profile_background_color': 'C0DEED', 'profile_background_image_url': 'http://abs.twimg.com/images/themes/theme1/bg.png', 'profile_background_image_url_https': 'https://abs.twimg.com/images/themes/theme1/bg.png', 'profile_background_tile': False, 'profile_image_url': 'http://pbs.twimg.com/profile_images/1320425336727715840/d2ment2l_normal.jpg', 'profile_image_url_https': 'https://pbs.twimg.com/profile_images/1320425336727715840/d2ment2l_normal.jpg', 'profile_link_color': '1DA1F2', 'profile_sidebar_border_color': 'C0DEED', 'profile_sidebar_fill_color': 'DDEEF6', 'profile_text_color': '333333', 'profile_use_background_image': True, 'has_extended_profile': False, 'default_profile': True, 'default_profile_image': False, 'following': False, 'follow_request_sent': False, 'notifications': False, 'translator_type': 'none'}, id=361086108, id_str='361086108', name='martz', screen_name='vidiyalthedi', location='', description='', url=None, entities={'description': {'urls': []}}, protected=False, followers_count=27, friends_count=124, listed_count=0, created_at=datetime.datetime(2011, 8, 24, 6, 54, 22), favourites_count=4665, utc_offset=None, time_zone=None, geo_enabled=False, verified=False, statuses_count=3388, lang=None, contributors_enabled=False, is_translator=False, is_translation_enabled=False, profile_background_color='C0DEED', profile_background_image_url='http://abs.twimg.com/images/themes/theme1/bg.png', profile_background_image_url_https='https://abs.twimg.com/images/themes/theme1/bg.png', profile_background_tile=False, profile_image_url='http://pbs.twimg.com/profile_images/1320425336727715840/d2ment2l_normal.jpg', profile_image_url_https='https://pbs.twimg.com/profile_images/1320425336727715840/d2ment2l_normal.jpg', profile_link_color='1DA1F2', profile_sidebar_border_color='C0DEED', profile_sidebar_fill_color='DDEEF6', profile_text_color='333333', profile_use_background_image=True, has_extended_profile=False, default_profile=True, default_profile_image=False, following=False, follow_request_sent=False, notifications=False, translator_type='none'), user=User(_api=<tweepy.api.API object at 0x000001FB13C61100>, _json={'id': 361086108, 'id_str': '361086108', 'name': 'martz', 'screen_name': 'vidiyalthedi', 'location': '', 'description': '', 'url': None, 'entities': {'description': {'urls': []}}, 'protected': False, 'followers_count': 27, 'friends_count': 124, 'listed_count': 0, 'created_at': 'Wed Aug 24 06:54:22 +0000 2011', 'favourites_count': 4665, 'utc_offset': None, 'time_zone': None, 'geo_enabled': False, 'verified': False, 'statuses_count': 3388, 'lang': None, 'contributors_enabled': False, 'is_translator': False, 'is_translation_enabled': False, 'profile_background_color': 'C0DEED', 'profile_background_image_url': 'http://abs.twimg.com/images/themes/theme1/bg.png', 'profile_background_image_url_https': 'https://abs.twimg.com/images/themes/theme1/bg.png', 'profile_background_tile': False, 'profile_image_url': 'http://pbs.twimg.com/profile_images/1320425336727715840/d2ment2l_normal.jpg', 'profile_image_url_https': 'https://pbs.twimg.com/profile_images/1320425336727715840/d2ment2l_normal.jpg', 'profile_link_color': '1DA1F2', 'profile_sidebar_border_color': 'C0DEED', 'profile_sidebar_fill_color': 'DDEEF6', 'profile_text_color': '333333', 'profile_use_background_image': True, 'has_extended_profile': False, 'default_profile': True, 'default_profile_image': False, 'following': False, 'follow_request_sent': False, 'notifications': False, 'translator_type': 'none'}, id=361086108, id_str='361086108', name='martz', screen_name='vidiyalthedi', location='', description='', url=None, entities={'description': {'urls': []}}, protected=False, followers_count=27, friends_count=124, listed_count=0, created_at=datetime.datetime(2011, 8, 24, 6, 54, 22), favourites_count=4665, utc_offset=None, time_zone=None, geo_enabled=False, verified=False, statuses_count=3388, lang=None, contributors_enabled=False, is_translator=False, is_translation_enabled=False, profile_background_color='C0DEED', profile_background_image_url='http://abs.twimg.com/images/themes/theme1/bg.png', profile_background_image_url_https='https://abs.twimg.com/images/themes/theme1/bg.png', profile_background_tile=False, profile_image_url='http://pbs.twimg.com/profile_images/1320425336727715840/d2ment2l_normal.jpg', profile_image_url_https='https://pbs.twimg.com/profile_images/1320425336727715840/d2ment2l_normal.jpg', profile_link_color='1DA1F2', profile_sidebar_border_color='C0DEED', profile_sidebar_fill_color='DDEEF6', profile_text_color='333333', profile_use_background_image=True, has_extended_profile=False, default_profile=True, default_profile_image=False, following=False, follow_request_sent=False, notifications=False, translator_type='none'), geo=None, coordinates=None, place=None, contributors=None, is_quote_status=False, retweet_count=0, favorite_count=0, favorited=False, retweeted=False, lang='en') \n",
      "\n",
      ".......................................\n",
      "\n"
     ]
    }
   ],
   "source": [
    "Tweets=api.search(query, count=10, language='en', exclude=\"retweets\", tweet_mode='extended')\n",
    "\n",
    "for tweet in Tweets:\n",
    "    print(tweet,\"\\n\")\n",
    "    print(\".......................................\\n\")\n",
    "\n",
    "\n"
   ]
  },
  {
   "cell_type": "code",
   "execution_count": 52,
   "metadata": {},
   "outputs": [],
   "source": [
    "##Get the tweets and some attributes"
   ]
  },
  {
   "cell_type": "code",
   "execution_count": 53,
   "metadata": {},
   "outputs": [],
   "source": [
    "df=pd.DataFrame(columns=['Tweets', 'User', 'User_statuses_count','User_followers', 'User_location', 'User_verified',\n",
    "                        'fav_count', 'rt_count','tweet_date'])"
   ]
  },
  {
   "cell_type": "code",
   "execution_count": 54,
   "metadata": {},
   "outputs": [
    {
     "data": {
      "text/html": [
       "<div>\n",
       "<style scoped>\n",
       "    .dataframe tbody tr th:only-of-type {\n",
       "        vertical-align: middle;\n",
       "    }\n",
       "\n",
       "    .dataframe tbody tr th {\n",
       "        vertical-align: top;\n",
       "    }\n",
       "\n",
       "    .dataframe thead th {\n",
       "        text-align: right;\n",
       "    }\n",
       "</style>\n",
       "<table border=\"1\" class=\"dataframe\">\n",
       "  <thead>\n",
       "    <tr style=\"text-align: right;\">\n",
       "      <th></th>\n",
       "      <th>Tweets</th>\n",
       "      <th>User</th>\n",
       "      <th>User_statuses_count</th>\n",
       "      <th>User_followers</th>\n",
       "      <th>User_location</th>\n",
       "      <th>User_verified</th>\n",
       "      <th>fav_count</th>\n",
       "      <th>rt_count</th>\n",
       "      <th>tweet_date</th>\n",
       "    </tr>\n",
       "  </thead>\n",
       "  <tbody>\n",
       "  </tbody>\n",
       "</table>\n",
       "</div>"
      ],
      "text/plain": [
       "Empty DataFrame\n",
       "Columns: [Tweets, User, User_statuses_count, User_followers, User_location, User_verified, fav_count, rt_count, tweet_date]\n",
       "Index: []"
      ]
     },
     "execution_count": 54,
     "metadata": {},
     "output_type": "execute_result"
    }
   ],
   "source": [
    "df"
   ]
  },
  {
   "cell_type": "code",
   "execution_count": 55,
   "metadata": {},
   "outputs": [],
   "source": [
    "def stream(data,file_name):\n",
    "    i=0\n",
    "    for tweet in tweepy.Cursor(api.search, q=data, count=100, lang='en').items():\n",
    "        print(i, end='\\r')\n",
    "        df.loc[i,'Tweets']=tweet.text\n",
    "        df.loc[i, 'User']=tweet.user.name\n",
    "        df.loc[i, 'User_statuses_count']=tweet.user.statuses_count\n",
    "        df.loc[i, 'User_followers']=tweet.user.followers_count\n",
    "        df.loc[i, 'User_location']=tweet.user.location\n",
    "        df.loc[i, 'User_verified']=tweet.user.verified\n",
    "        df.loc[i, 'fav_count']=tweet.favorite_count\n",
    "        df.loc[i, 'rt_count']=tweet.retweet_count\n",
    "        df.loc[i, 'tweet_date']=tweet.created_at\n",
    "        df.to_excel('{}.xlsx'.format(file_name))\n",
    "        i=i+1\n",
    "        if i==1000:\n",
    "            break\n",
    "        else:\n",
    "            pass\n",
    "        "
   ]
  },
  {
   "cell_type": "code",
   "execution_count": 56,
   "metadata": {},
   "outputs": [
    {
     "name": "stdout",
     "output_type": "stream",
     "text": [
      "999\r"
     ]
    }
   ],
   "source": [
    "stream(data=['Covid cases in India'], file_name='my_tweets')"
   ]
  },
  {
   "cell_type": "code",
   "execution_count": 57,
   "metadata": {},
   "outputs": [
    {
     "data": {
      "text/html": [
       "<div>\n",
       "<style scoped>\n",
       "    .dataframe tbody tr th:only-of-type {\n",
       "        vertical-align: middle;\n",
       "    }\n",
       "\n",
       "    .dataframe tbody tr th {\n",
       "        vertical-align: top;\n",
       "    }\n",
       "\n",
       "    .dataframe thead th {\n",
       "        text-align: right;\n",
       "    }\n",
       "</style>\n",
       "<table border=\"1\" class=\"dataframe\">\n",
       "  <thead>\n",
       "    <tr style=\"text-align: right;\">\n",
       "      <th></th>\n",
       "      <th>Tweets</th>\n",
       "      <th>User</th>\n",
       "      <th>User_statuses_count</th>\n",
       "      <th>User_followers</th>\n",
       "      <th>User_location</th>\n",
       "      <th>User_verified</th>\n",
       "      <th>fav_count</th>\n",
       "      <th>rt_count</th>\n",
       "      <th>tweet_date</th>\n",
       "    </tr>\n",
       "  </thead>\n",
       "  <tbody>\n",
       "    <tr>\n",
       "      <th>0</th>\n",
       "      <td>Coronavirus India LIVE Updates: India Sees 38,...</td>\n",
       "      <td>Pehal News</td>\n",
       "      <td>84219</td>\n",
       "      <td>443</td>\n",
       "      <td></td>\n",
       "      <td>False</td>\n",
       "      <td>0</td>\n",
       "      <td>0</td>\n",
       "      <td>2020-11-19 01:11:03</td>\n",
       "    </tr>\n",
       "    <tr>\n",
       "      <th>1</th>\n",
       "      <td>RT @timesofindia: India shows jump of 30% in n...</td>\n",
       "      <td>Mohammed Hussain</td>\n",
       "      <td>1853</td>\n",
       "      <td>156</td>\n",
       "      <td>Bangalore</td>\n",
       "      <td>False</td>\n",
       "      <td>0</td>\n",
       "      <td>38</td>\n",
       "      <td>2020-11-19 01:04:37</td>\n",
       "    </tr>\n",
       "    <tr>\n",
       "      <th>2</th>\n",
       "      <td>#COVID__19\\nTotal corona cases 19.11.20\\nin In...</td>\n",
       "      <td>M R Laroia</td>\n",
       "      <td>4150</td>\n",
       "      <td>56</td>\n",
       "      <td>Gurgaon, India</td>\n",
       "      <td>False</td>\n",
       "      <td>0</td>\n",
       "      <td>0</td>\n",
       "      <td>2020-11-19 01:01:28</td>\n",
       "    </tr>\n",
       "    <tr>\n",
       "      <th>3</th>\n",
       "      <td>Random COVID-19 tests of 165 persons on Noida-...</td>\n",
       "      <td>India News Live</td>\n",
       "      <td>22976</td>\n",
       "      <td>794</td>\n",
       "      <td>India</td>\n",
       "      <td>False</td>\n",
       "      <td>0</td>\n",
       "      <td>0</td>\n",
       "      <td>2020-11-19 01:01:12</td>\n",
       "    </tr>\n",
       "    <tr>\n",
       "      <th>4</th>\n",
       "      <td>India Sees 38,617 New Covid Infections; Delhi ...</td>\n",
       "      <td>Today News Headlines</td>\n",
       "      <td>10875</td>\n",
       "      <td>208</td>\n",
       "      <td>New Delhi, India</td>\n",
       "      <td>False</td>\n",
       "      <td>0</td>\n",
       "      <td>0</td>\n",
       "      <td>2020-11-19 00:49:48</td>\n",
       "    </tr>\n",
       "  </tbody>\n",
       "</table>\n",
       "</div>"
      ],
      "text/plain": [
       "                                              Tweets                  User  \\\n",
       "0  Coronavirus India LIVE Updates: India Sees 38,...            Pehal News   \n",
       "1  RT @timesofindia: India shows jump of 30% in n...      Mohammed Hussain   \n",
       "2  #COVID__19\\nTotal corona cases 19.11.20\\nin In...            M R Laroia   \n",
       "3  Random COVID-19 tests of 165 persons on Noida-...       India News Live   \n",
       "4  India Sees 38,617 New Covid Infections; Delhi ...  Today News Headlines   \n",
       "\n",
       "  User_statuses_count User_followers     User_location User_verified  \\\n",
       "0               84219            443                           False   \n",
       "1                1853            156         Bangalore         False   \n",
       "2                4150             56    Gurgaon, India         False   \n",
       "3               22976            794             India         False   \n",
       "4               10875            208  New Delhi, India         False   \n",
       "\n",
       "  fav_count rt_count           tweet_date  \n",
       "0         0        0  2020-11-19 01:11:03  \n",
       "1         0       38  2020-11-19 01:04:37  \n",
       "2         0        0  2020-11-19 01:01:28  \n",
       "3         0        0  2020-11-19 01:01:12  \n",
       "4         0        0  2020-11-19 00:49:48  "
      ]
     },
     "execution_count": 57,
     "metadata": {},
     "output_type": "execute_result"
    }
   ],
   "source": [
    "df.head()"
   ]
  },
  {
   "cell_type": "code",
   "execution_count": 58,
   "metadata": {},
   "outputs": [
    {
     "name": "stdout",
     "output_type": "stream",
     "text": [
      "Requirement already satisfied: textblob in c:\\users\\indrajeet\\anaconda3\\lib\\site-packages (0.15.3)\n",
      "Requirement already satisfied: nltk>=3.1 in c:\\users\\indrajeet\\anaconda3\\lib\\site-packages (from textblob) (3.5)\n",
      "Requirement already satisfied: joblib in c:\\users\\indrajeet\\anaconda3\\lib\\site-packages (from nltk>=3.1->textblob) (0.16.0)\n",
      "Requirement already satisfied: regex in c:\\users\\indrajeet\\anaconda3\\lib\\site-packages (from nltk>=3.1->textblob) (2020.6.8)\n",
      "Requirement already satisfied: tqdm in c:\\users\\indrajeet\\anaconda3\\lib\\site-packages (from nltk>=3.1->textblob) (4.47.0)\n",
      "Requirement already satisfied: click in c:\\users\\indrajeet\\anaconda3\\lib\\site-packages (from nltk>=3.1->textblob) (7.1.2)\n"
     ]
    }
   ],
   "source": [
    "!pip install textblob\n"
   ]
  },
  {
   "cell_type": "code",
   "execution_count": 59,
   "metadata": {},
   "outputs": [],
   "source": [
    "#Sentiment(polarity, subjectivily)\n",
    "\n",
    "# Polarity score: [+1, -1]\n",
    "\n",
    "# Subjectively : [0.0, 1.0]\n",
    "\n",
    "#where 0 is very objective and 1 is very subjective"
   ]
  },
  {
   "cell_type": "markdown",
   "metadata": {},
   "source": [
    "# Cleaning data "
   ]
  },
  {
   "cell_type": "code",
   "execution_count": 60,
   "metadata": {},
   "outputs": [],
   "source": [
    "from textblob import TextBlob"
   ]
  },
  {
   "cell_type": "code",
   "execution_count": 61,
   "metadata": {},
   "outputs": [],
   "source": [
    "import re\n",
    "\n",
    "def clean_tweet(tweet):\n",
    "    return ' '.join(re.sub('(@[A-Za-z0-9]+)|([^0-9A-Za-z \\t])|(\\w+:\\/\\/\\S+)',\" \", tweet).split())"
   ]
  },
  {
   "cell_type": "code",
   "execution_count": 62,
   "metadata": {},
   "outputs": [],
   "source": [
    "def analyze_sentiment(tweet):\n",
    "    analysis= TextBlob(tweet)\n",
    "    if analysis.sentiment.polarity>0:\n",
    "        return 'Positive'\n",
    "    elif analysis.sentiment.polarity==0:\n",
    "        return 'Negative'"
   ]
  },
  {
   "cell_type": "code",
   "execution_count": 63,
   "metadata": {},
   "outputs": [],
   "source": [
    "df['clean_tweet']=df['Tweets'].apply(lambda x: clean_tweet(x))"
   ]
  },
  {
   "cell_type": "code",
   "execution_count": 64,
   "metadata": {},
   "outputs": [
    {
     "data": {
      "text/html": [
       "<div>\n",
       "<style scoped>\n",
       "    .dataframe tbody tr th:only-of-type {\n",
       "        vertical-align: middle;\n",
       "    }\n",
       "\n",
       "    .dataframe tbody tr th {\n",
       "        vertical-align: top;\n",
       "    }\n",
       "\n",
       "    .dataframe thead th {\n",
       "        text-align: right;\n",
       "    }\n",
       "</style>\n",
       "<table border=\"1\" class=\"dataframe\">\n",
       "  <thead>\n",
       "    <tr style=\"text-align: right;\">\n",
       "      <th></th>\n",
       "      <th>Tweets</th>\n",
       "      <th>User</th>\n",
       "      <th>User_statuses_count</th>\n",
       "      <th>User_followers</th>\n",
       "      <th>User_location</th>\n",
       "      <th>User_verified</th>\n",
       "      <th>fav_count</th>\n",
       "      <th>rt_count</th>\n",
       "      <th>tweet_date</th>\n",
       "      <th>clean_tweet</th>\n",
       "    </tr>\n",
       "  </thead>\n",
       "  <tbody>\n",
       "    <tr>\n",
       "      <th>0</th>\n",
       "      <td>Coronavirus India LIVE Updates: India Sees 38,...</td>\n",
       "      <td>Pehal News</td>\n",
       "      <td>84219</td>\n",
       "      <td>443</td>\n",
       "      <td></td>\n",
       "      <td>False</td>\n",
       "      <td>0</td>\n",
       "      <td>0</td>\n",
       "      <td>2020-11-19 01:11:03</td>\n",
       "      <td>Coronavirus India LIVE Updates India Sees 38 6...</td>\n",
       "    </tr>\n",
       "    <tr>\n",
       "      <th>1</th>\n",
       "      <td>RT @timesofindia: India shows jump of 30% in n...</td>\n",
       "      <td>Mohammed Hussain</td>\n",
       "      <td>1853</td>\n",
       "      <td>156</td>\n",
       "      <td>Bangalore</td>\n",
       "      <td>False</td>\n",
       "      <td>0</td>\n",
       "      <td>38</td>\n",
       "      <td>2020-11-19 01:04:37</td>\n",
       "      <td>RT India shows jump of 30 in new Covid cases s...</td>\n",
       "    </tr>\n",
       "  </tbody>\n",
       "</table>\n",
       "</div>"
      ],
      "text/plain": [
       "                                              Tweets              User  \\\n",
       "0  Coronavirus India LIVE Updates: India Sees 38,...        Pehal News   \n",
       "1  RT @timesofindia: India shows jump of 30% in n...  Mohammed Hussain   \n",
       "\n",
       "  User_statuses_count User_followers User_location User_verified fav_count  \\\n",
       "0               84219            443                       False         0   \n",
       "1                1853            156     Bangalore         False         0   \n",
       "\n",
       "  rt_count           tweet_date  \\\n",
       "0        0  2020-11-19 01:11:03   \n",
       "1       38  2020-11-19 01:04:37   \n",
       "\n",
       "                                         clean_tweet  \n",
       "0  Coronavirus India LIVE Updates India Sees 38 6...  \n",
       "1  RT India shows jump of 30 in new Covid cases s...  "
      ]
     },
     "execution_count": 64,
     "metadata": {},
     "output_type": "execute_result"
    }
   ],
   "source": [
    "df.head(2)"
   ]
  },
  {
   "cell_type": "code",
   "execution_count": 65,
   "metadata": {},
   "outputs": [
    {
     "data": {
      "text/html": [
       "<div>\n",
       "<style scoped>\n",
       "    .dataframe tbody tr th:only-of-type {\n",
       "        vertical-align: middle;\n",
       "    }\n",
       "\n",
       "    .dataframe tbody tr th {\n",
       "        vertical-align: top;\n",
       "    }\n",
       "\n",
       "    .dataframe thead th {\n",
       "        text-align: right;\n",
       "    }\n",
       "</style>\n",
       "<table border=\"1\" class=\"dataframe\">\n",
       "  <thead>\n",
       "    <tr style=\"text-align: right;\">\n",
       "      <th></th>\n",
       "      <th>Tweets</th>\n",
       "      <th>User</th>\n",
       "      <th>User_statuses_count</th>\n",
       "      <th>User_followers</th>\n",
       "      <th>User_location</th>\n",
       "      <th>User_verified</th>\n",
       "      <th>fav_count</th>\n",
       "      <th>rt_count</th>\n",
       "      <th>tweet_date</th>\n",
       "      <th>clean_tweet</th>\n",
       "      <th>Sentiment</th>\n",
       "    </tr>\n",
       "  </thead>\n",
       "  <tbody>\n",
       "    <tr>\n",
       "      <th>0</th>\n",
       "      <td>Coronavirus India LIVE Updates: India Sees 38,...</td>\n",
       "      <td>Pehal News</td>\n",
       "      <td>84219</td>\n",
       "      <td>443</td>\n",
       "      <td></td>\n",
       "      <td>False</td>\n",
       "      <td>0</td>\n",
       "      <td>0</td>\n",
       "      <td>2020-11-19 01:11:03</td>\n",
       "      <td>Coronavirus India LIVE Updates India Sees 38 6...</td>\n",
       "      <td>Positive</td>\n",
       "    </tr>\n",
       "    <tr>\n",
       "      <th>1</th>\n",
       "      <td>RT @timesofindia: India shows jump of 30% in n...</td>\n",
       "      <td>Mohammed Hussain</td>\n",
       "      <td>1853</td>\n",
       "      <td>156</td>\n",
       "      <td>Bangalore</td>\n",
       "      <td>False</td>\n",
       "      <td>0</td>\n",
       "      <td>38</td>\n",
       "      <td>2020-11-19 01:04:37</td>\n",
       "      <td>RT India shows jump of 30 in new Covid cases s...</td>\n",
       "      <td>Positive</td>\n",
       "    </tr>\n",
       "    <tr>\n",
       "      <th>2</th>\n",
       "      <td>#COVID__19\\nTotal corona cases 19.11.20\\nin In...</td>\n",
       "      <td>M R Laroia</td>\n",
       "      <td>4150</td>\n",
       "      <td>56</td>\n",
       "      <td>Gurgaon, India</td>\n",
       "      <td>False</td>\n",
       "      <td>0</td>\n",
       "      <td>0</td>\n",
       "      <td>2020-11-19 01:01:28</td>\n",
       "      <td>COVID 19 Total corona cases 19 11 20 in India ...</td>\n",
       "      <td>Positive</td>\n",
       "    </tr>\n",
       "    <tr>\n",
       "      <th>3</th>\n",
       "      <td>Random COVID-19 tests of 165 persons on Noida-...</td>\n",
       "      <td>India News Live</td>\n",
       "      <td>22976</td>\n",
       "      <td>794</td>\n",
       "      <td>India</td>\n",
       "      <td>False</td>\n",
       "      <td>0</td>\n",
       "      <td>0</td>\n",
       "      <td>2020-11-19 01:01:12</td>\n",
       "      <td>Random COVID 19 tests of 165 persons on Noida ...</td>\n",
       "      <td>None</td>\n",
       "    </tr>\n",
       "    <tr>\n",
       "      <th>4</th>\n",
       "      <td>India Sees 38,617 New Covid Infections; Delhi ...</td>\n",
       "      <td>Today News Headlines</td>\n",
       "      <td>10875</td>\n",
       "      <td>208</td>\n",
       "      <td>New Delhi, India</td>\n",
       "      <td>False</td>\n",
       "      <td>0</td>\n",
       "      <td>0</td>\n",
       "      <td>2020-11-19 00:49:48</td>\n",
       "      <td>India Sees 38 617 New Covid Infections Delhi C...</td>\n",
       "      <td>Positive</td>\n",
       "    </tr>\n",
       "  </tbody>\n",
       "</table>\n",
       "</div>"
      ],
      "text/plain": [
       "                                              Tweets                  User  \\\n",
       "0  Coronavirus India LIVE Updates: India Sees 38,...            Pehal News   \n",
       "1  RT @timesofindia: India shows jump of 30% in n...      Mohammed Hussain   \n",
       "2  #COVID__19\\nTotal corona cases 19.11.20\\nin In...            M R Laroia   \n",
       "3  Random COVID-19 tests of 165 persons on Noida-...       India News Live   \n",
       "4  India Sees 38,617 New Covid Infections; Delhi ...  Today News Headlines   \n",
       "\n",
       "  User_statuses_count User_followers     User_location User_verified  \\\n",
       "0               84219            443                           False   \n",
       "1                1853            156         Bangalore         False   \n",
       "2                4150             56    Gurgaon, India         False   \n",
       "3               22976            794             India         False   \n",
       "4               10875            208  New Delhi, India         False   \n",
       "\n",
       "  fav_count rt_count           tweet_date  \\\n",
       "0         0        0  2020-11-19 01:11:03   \n",
       "1         0       38  2020-11-19 01:04:37   \n",
       "2         0        0  2020-11-19 01:01:28   \n",
       "3         0        0  2020-11-19 01:01:12   \n",
       "4         0        0  2020-11-19 00:49:48   \n",
       "\n",
       "                                         clean_tweet Sentiment  \n",
       "0  Coronavirus India LIVE Updates India Sees 38 6...  Positive  \n",
       "1  RT India shows jump of 30 in new Covid cases s...  Positive  \n",
       "2  COVID 19 Total corona cases 19 11 20 in India ...  Positive  \n",
       "3  Random COVID 19 tests of 165 persons on Noida ...      None  \n",
       "4  India Sees 38 617 New Covid Infections Delhi C...  Positive  "
      ]
     },
     "execution_count": 65,
     "metadata": {},
     "output_type": "execute_result"
    }
   ],
   "source": [
    "df['Sentiment']=df['clean_tweet'].apply(lambda x: analyze_sentiment(x))\n",
    "\n",
    "df.head()"
   ]
  },
  {
   "cell_type": "code",
   "execution_count": 67,
   "metadata": {},
   "outputs": [
    {
     "name": "stdout",
     "output_type": "stream",
     "text": [
      "Original_tweet: \n",
      " RT @brarharry685: We know that there are a lot of cases in India but we are safe right now. International students can do covid- 19 test be…\n",
      "\n",
      "sentiment of the tweet: \n",
      " Positive\n",
      "\n",
      "Clean tweet: \n",
      " RT We know that there are a lot of cases in India but we are safe right now International students can do covid 19 test be\n"
     ]
    }
   ],
   "source": [
    "n=204\n",
    "\n",
    "print('Original_tweet: \\n',df['Tweets'][n])\n",
    "print()\n",
    "print('sentiment of the tweet: \\n', df['Sentiment'][n])\n",
    "print()\n",
    "print('Clean tweet: \\n',df['clean_tweet'][n])"
   ]
  },
  {
   "cell_type": "code",
   "execution_count": null,
   "metadata": {},
   "outputs": [],
   "source": []
  }
 ],
 "metadata": {
  "kernelspec": {
   "display_name": "Python 3",
   "language": "python",
   "name": "python3"
  },
  "language_info": {
   "codemirror_mode": {
    "name": "ipython",
    "version": 3
   },
   "file_extension": ".py",
   "mimetype": "text/x-python",
   "name": "python",
   "nbconvert_exporter": "python",
   "pygments_lexer": "ipython3",
   "version": "3.8.3"
  }
 },
 "nbformat": 4,
 "nbformat_minor": 4
}
