{
  "nbformat": 4,
  "nbformat_minor": 0,
  "metadata": {
    "colab": {
      "name": "Untitled2.ipynb",
      "provenance": [],
      "collapsed_sections": []
    },
    "kernelspec": {
      "name": "python3",
      "display_name": "Python 3"
    }
  },
  "cells": [
    {
      "cell_type": "markdown",
      "metadata": {
        "id": "KSgJFM__88Wl",
        "colab_type": "text"
      },
      "source": [
        "Assignment Day 4"
      ]
    },
    {
      "cell_type": "markdown",
      "metadata": {
        "id": "QhPunXuX9AJ7",
        "colab_type": "text"
      },
      "source": [
        "Question 1 :\n",
        "Research on whether addition, subtraction, multiplication, division, floor division and modulo\n",
        "operations be performed on complex numbers. Based on your study, implement a Python\n",
        "program to demonstrate these operations.\n"
      ]
    },
    {
      "cell_type": "code",
      "metadata": {
        "id": "-yzT8qEc8-FU",
        "colab_type": "code",
        "colab": {
          "base_uri": "https://localhost:8080/",
          "height": 85
        },
        "outputId": "7e5f40f8-4bc2-4058-a86f-b60ddc18bb2e"
      },
      "source": [
        "a=1256.45\n",
        "b=203.89\n",
        "addition=a+b\n",
        "print(addition)\n",
        "\n",
        "subtra=a-b\n",
        "print(subtra)\n",
        "\n",
        "multi=a*b\n",
        "print(a*b)\n",
        "\n",
        "divi=a/b\n",
        "print(divi)"
      ],
      "execution_count": 6,
      "outputs": [
        {
          "output_type": "stream",
          "text": [
            "1460.3400000000001\n",
            "1052.56\n",
            "256177.5905\n",
            "6.162391485604983\n"
          ],
          "name": "stdout"
        }
      ]
    },
    {
      "cell_type": "markdown",
      "metadata": {
        "id": "Hk5pJ6l596Pp",
        "colab_type": "text"
      },
      "source": [
        "Question 2 :\n",
        "Research on range() functions and its parameters. Create a markdown cell and write in your own\n",
        "words (no copy-paste from google please) what you understand about it. Implement a small\n",
        "program of your choice on the same."
      ]
    },
    {
      "cell_type": "code",
      "metadata": {
        "id": "0_oiu5rU960x",
        "colab_type": "code",
        "colab": {
          "base_uri": "https://localhost:8080/",
          "height": 170
        },
        "outputId": "2d13967b-4c2a-4295-caa9-6b7a33c4be97"
      },
      "source": [
        "#range() is function which create list of numbers in equely sequence and we have option to choose start, stop and step.\n",
        "#by defalt it takes 1 step which can be chnage as requirement.\n",
        "#range(), required at least one eliments in function as 'start range' and other both option is optional(stop range and step of range)\n",
        "# for examples below will create list which creats 9 eliments by distance of 10\n",
        "#range doesnt take last eliment as per function\n",
        "\n",
        "for i in range(10,100,10):\n",
        "  print(i)"
      ],
      "execution_count": 16,
      "outputs": [
        {
          "output_type": "stream",
          "text": [
            "10\n",
            "20\n",
            "30\n",
            "40\n",
            "50\n",
            "60\n",
            "70\n",
            "80\n",
            "90\n"
          ],
          "name": "stdout"
        }
      ]
    },
    {
      "cell_type": "markdown",
      "metadata": {
        "id": "tVgP8aH5E3Ha",
        "colab_type": "text"
      },
      "source": [
        "Question 3:\n",
        " Consider two numbers. Perform their subtraction and if the result of subtraction is greater than\n",
        "25, print their multiplication result else print their division result."
      ]
    },
    {
      "cell_type": "code",
      "metadata": {
        "id": "20dQBCe2E3yY",
        "colab_type": "code",
        "colab": {
          "base_uri": "https://localhost:8080/",
          "height": 34
        },
        "outputId": "37ca05b9-5940-42b9-c89d-a502097917bb"
      },
      "source": [
        "a=100\n",
        "b=50\n",
        "c=a-b\n",
        "if c>25:\n",
        "  print(a*b)\n",
        "else:\n",
        "  print(a/b)"
      ],
      "execution_count": 18,
      "outputs": [
        {
          "output_type": "stream",
          "text": [
            "5000\n"
          ],
          "name": "stdout"
        }
      ]
    },
    {
      "cell_type": "markdown",
      "metadata": {
        "id": "I-Rk7wM6FebW",
        "colab_type": "text"
      },
      "source": [
        "Question 4:\n",
        "Consider a list of 10 elements of integer values. If the number in the list is divisible by 2, print the\n",
        "result as \"square of that number minus 2\"."
      ]
    },
    {
      "cell_type": "code",
      "metadata": {
        "id": "1ApEfqezFfHo",
        "colab_type": "code",
        "colab": {
          "base_uri": "https://localhost:8080/",
          "height": 102
        },
        "outputId": "618f0274-cd3f-46e4-fbd3-34b026448fdf"
      },
      "source": [
        "lst=[1,2,3,4,5,6,7,8,9,10]\n",
        "for i in lst:\n",
        "  if i%2==0:\n",
        "    print(i**2-2, \": is the result\")"
      ],
      "execution_count": 22,
      "outputs": [
        {
          "output_type": "stream",
          "text": [
            "2 : is the result\n",
            "14 : is the result\n",
            "34 : is the result\n",
            "62 : is the result\n",
            "98 : is the result\n"
          ],
          "name": "stdout"
        }
      ]
    },
    {
      "cell_type": "markdown",
      "metadata": {
        "id": "3uZUGEFqG-1r",
        "colab_type": "text"
      },
      "source": [
        "Question 5:\n",
        "Consider a list of 10 elements. Print all the elements in the list which are greater than 7 when that\n",
        "number is divided 2."
      ]
    },
    {
      "cell_type": "code",
      "metadata": {
        "id": "i56nNC1hG_q2",
        "colab_type": "code",
        "colab": {
          "base_uri": "https://localhost:8080/",
          "height": 153
        },
        "outputId": "9e8961a2-8846-4045-8ed2-31198f2a9ea4"
      },
      "source": [
        "lt=[2,10,60,35,40,100,200,250,80,120]\n",
        "for i in lt:\n",
        "  if i%2==0 and i>7:\n",
        "    print(i,': is divisible by 2 and gteater than 7')"
      ],
      "execution_count": 23,
      "outputs": [
        {
          "output_type": "stream",
          "text": [
            "10 : is divisible by 2 and gteater than 7\n",
            "60 : is divisible by 2 and gteater than 7\n",
            "40 : is divisible by 2 and gteater than 7\n",
            "100 : is divisible by 2 and gteater than 7\n",
            "200 : is divisible by 2 and gteater than 7\n",
            "250 : is divisible by 2 and gteater than 7\n",
            "80 : is divisible by 2 and gteater than 7\n",
            "120 : is divisible by 2 and gteater than 7\n"
          ],
          "name": "stdout"
        }
      ]
    },
    {
      "cell_type": "code",
      "metadata": {
        "id": "gNTPdMMrH6C3",
        "colab_type": "code",
        "colab": {}
      },
      "source": [
        ""
      ],
      "execution_count": null,
      "outputs": []
    }
  ]
}