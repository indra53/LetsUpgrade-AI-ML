{
  "nbformat": 4,
  "nbformat_minor": 0,
  "metadata": {
    "colab": {
      "name": "feed forawd Nural network for MNIST dataset.ipynb",
      "provenance": [],
      "collapsed_sections": []
    },
    "kernelspec": {
      "name": "python3",
      "display_name": "Python 3"
    }
  },
  "cells": [
    {
      "cell_type": "code",
      "metadata": {
        "id": "mMNH8nIw-gQM"
      },
      "source": [
        "  import tensorflow as tf"
      ],
      "execution_count": 39,
      "outputs": []
    },
    {
      "cell_type": "markdown",
      "metadata": {
        "id": "JH3me2igCExB"
      },
      "source": [
        "MNIST dataset which have handwritten Digits\n",
        "\n",
        "Its a multicalss classification problem since have more than 2 classification\n",
        "\n",
        "Problem : use deep learning to know what digit is given\n",
        "\n",
        "Each image is of the same size\n",
        "\n",
        "Its gray scale image of 28*28"
      ]
    },
    {
      "cell_type": "code",
      "metadata": {
        "id": "p5vRa_TRCGfz"
      },
      "source": [
        "#Loading data\n",
        "mnist= tf.keras.datasets.mnist"
      ],
      "execution_count": 40,
      "outputs": []
    },
    {
      "cell_type": "code",
      "metadata": {
        "id": "WQyn5yi4DBCW"
      },
      "source": [
        "(x_train, y_train), (x_test, y_test)=mnist.load_data()"
      ],
      "execution_count": 41,
      "outputs": []
    },
    {
      "cell_type": "code",
      "metadata": {
        "id": "hPR7a9ImDEOd",
        "outputId": "0145d1a5-de01-4e73-bbe9-5d8a80457402",
        "colab": {
          "base_uri": "https://localhost:8080/"
        }
      },
      "source": [
        "x_train.shape\n"
      ],
      "execution_count": 42,
      "outputs": [
        {
          "output_type": "execute_result",
          "data": {
            "text/plain": [
              "(60000, 28, 28)"
            ]
          },
          "metadata": {
            "tags": []
          },
          "execution_count": 42
        }
      ]
    },
    {
      "cell_type": "code",
      "metadata": {
        "id": "bp0Q_JWJDf7M"
      },
      "source": [
        "#building model"
      ],
      "execution_count": 43,
      "outputs": []
    },
    {
      "cell_type": "code",
      "metadata": {
        "id": "cVEg1i02-oH3"
      },
      "source": [
        "model=tf.keras.models.Sequential([\n",
        "                                  tf.keras.layers.Flatten(input_shape=(28,28)),\n",
        "                                  tf.keras.layers.Dense(128, activation='relu'), # 128 is hiden layer\n",
        "                                  tf.keras.layers.Dropout(0.2), # dropout use for not get overfit our model\n",
        "                                  tf.keras.layers.Dense(10, activation='softmax') # bcs relu use only for hiden layer hence need softmax to output layer\n",
        "\n",
        "\n",
        "])"
      ],
      "execution_count": 44,
      "outputs": []
    },
    {
      "cell_type": "code",
      "metadata": {
        "id": "V61zJdLeAsET"
      },
      "source": [
        "#compliling model"
      ],
      "execution_count": 45,
      "outputs": []
    },
    {
      "cell_type": "code",
      "metadata": {
        "id": "8xkhgeqJAvEc"
      },
      "source": [
        "model.compile(\n",
        "    optimizer='adam',\n",
        "    loss='sparse_categorical_crossentropy',  # bcs data is form of sparse metics\n",
        "    metrics=['accuracy']\n",
        ")"
      ],
      "execution_count": 46,
      "outputs": []
    },
    {
      "cell_type": "code",
      "metadata": {
        "id": "w1h3ajsi6BlQ"
      },
      "source": [
        "#Train the model"
      ],
      "execution_count": 47,
      "outputs": []
    },
    {
      "cell_type": "code",
      "metadata": {
        "id": "bOxODKl36HIz",
        "outputId": "afb31cdd-ff29-4dea-c83d-f6a4528ef60c",
        "colab": {
          "base_uri": "https://localhost:8080/"
        }
      },
      "source": [
        "r=model.fit(x_train,y_train, validation_data=(x_test,y_test),epochs=10)"
      ],
      "execution_count": 48,
      "outputs": [
        {
          "output_type": "stream",
          "text": [
            "Epoch 1/10\n",
            "1875/1875 [==============================] - 4s 2ms/step - loss: 2.4994 - accuracy: 0.7468 - val_loss: 0.5287 - val_accuracy: 0.8781\n",
            "Epoch 2/10\n",
            "1875/1875 [==============================] - 3s 2ms/step - loss: 0.5906 - accuracy: 0.8342 - val_loss: 0.3888 - val_accuracy: 0.9010\n",
            "Epoch 3/10\n",
            "1875/1875 [==============================] - 3s 2ms/step - loss: 0.4810 - accuracy: 0.8654 - val_loss: 0.3228 - val_accuracy: 0.9221\n",
            "Epoch 4/10\n",
            "1875/1875 [==============================] - 3s 2ms/step - loss: 0.4212 - accuracy: 0.8852 - val_loss: 0.3642 - val_accuracy: 0.9105\n",
            "Epoch 5/10\n",
            "1875/1875 [==============================] - 3s 2ms/step - loss: 0.3959 - accuracy: 0.8924 - val_loss: 0.2944 - val_accuracy: 0.9267\n",
            "Epoch 6/10\n",
            "1875/1875 [==============================] - 3s 2ms/step - loss: 0.3669 - accuracy: 0.9008 - val_loss: 0.3554 - val_accuracy: 0.9359\n",
            "Epoch 7/10\n",
            "1875/1875 [==============================] - 3s 2ms/step - loss: 0.3616 - accuracy: 0.9055 - val_loss: 0.3347 - val_accuracy: 0.9248\n",
            "Epoch 8/10\n",
            "1875/1875 [==============================] - 3s 2ms/step - loss: 0.3368 - accuracy: 0.9114 - val_loss: 0.3184 - val_accuracy: 0.9348\n",
            "Epoch 9/10\n",
            "1875/1875 [==============================] - 3s 2ms/step - loss: 0.3401 - accuracy: 0.9108 - val_loss: 0.3124 - val_accuracy: 0.9324\n",
            "Epoch 10/10\n",
            "1875/1875 [==============================] - 3s 2ms/step - loss: 0.3340 - accuracy: 0.9141 - val_loss: 0.2807 - val_accuracy: 0.9426\n"
          ],
          "name": "stdout"
        }
      ]
    },
    {
      "cell_type": "code",
      "metadata": {
        "id": "fux50gAG6arg"
      },
      "source": [
        "#plot loss per iteration"
      ],
      "execution_count": 49,
      "outputs": []
    },
    {
      "cell_type": "code",
      "metadata": {
        "id": "l9Vh4ge98PxB"
      },
      "source": [
        "import matplotlib.pyplot as plt"
      ],
      "execution_count": 50,
      "outputs": []
    },
    {
      "cell_type": "code",
      "metadata": {
        "id": "Zrdv6_rt8aLv",
        "outputId": "7ea55d4a-54e2-449e-9200-6979590f864b",
        "colab": {
          "base_uri": "https://localhost:8080/",
          "height": 282
        }
      },
      "source": [
        "plt.plot(r.history['loss'],label='loss')\n",
        "plt.plot(r.history['val_loss'], label='val_loss')\n",
        "plt.legend()"
      ],
      "execution_count": 51,
      "outputs": [
        {
          "output_type": "execute_result",
          "data": {
            "text/plain": [
              "<matplotlib.legend.Legend at 0x7f8ea5afe358>"
            ]
          },
          "metadata": {
            "tags": []
          },
          "execution_count": 51
        },
        {
          "output_type": "display_data",
          "data": {
            "image/png": "[encoded data removed]",
            "text/plain": [
              "<Figure size 432x288 with 1 Axes>"
            ]
          },
          "metadata": {
            "tags": [],
            "needs_background": "light"
          }
        }
      ]
    },
    {
      "cell_type": "code",
      "metadata": {
        "id": "kuxnzq9H82J7",
        "outputId": "cb79f49a-3cda-4099-d698-1364f4ea5c71",
        "colab": {
          "base_uri": "https://localhost:8080/",
          "height": 284
        }
      },
      "source": [
        "plt.plot(r.history['accuracy'],label='accuracy')\n",
        "plt.plot(r.history['val_accuracy'], label='val_accuracy')\n",
        "plt.legend()"
      ],
      "execution_count": 52,
      "outputs": [
        {
          "output_type": "execute_result",
          "data": {
            "text/plain": [
              "<matplotlib.legend.Legend at 0x7f8ea4ab6d68>"
            ]
          },
          "metadata": {
            "tags": []
          },
          "execution_count": 52
        },
        {
          "output_type": "display_data",
          "data": {
            "image/png": "[encoded data removed]",
            "text/plain": [
              "<Figure size 432x288 with 1 Axes>"
            ]
          },
          "metadata": {
            "tags": [],
            "needs_background": "light"
          }
        }
      ]
    },
    {
      "cell_type": "code",
      "metadata": {
        "id": "id0vzz8a9tXU"
      },
      "source": [
        "# Accuracy is Pretty Hight almost 95%"
      ],
      "execution_count": 53,
      "outputs": []
    },
    {
      "cell_type": "code",
      "metadata": {
        "id": "t5lgEm0S90y8"
      },
      "source": [
        ""
      ],
      "execution_count": 55,
      "outputs": []
    },
    {
      "cell_type": "code",
      "metadata": {
        "id": "MbwmQ-Kl-KG1"
      },
      "source": [
        ""
      ],
      "execution_count": 55,
      "outputs": []
    },
    {
      "cell_type": "code",
      "metadata": {
        "id": "JozbPaUP-VsH"
      },
      "source": [
        ""
      ],
      "execution_count": 55,
      "outputs": []
    }
  ]
}