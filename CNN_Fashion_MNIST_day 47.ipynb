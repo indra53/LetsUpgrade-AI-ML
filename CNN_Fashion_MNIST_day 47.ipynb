{
  "nbformat": 4,
  "nbformat_minor": 0,
  "metadata": {
    "colab": {
      "name": "CNN_Fashion_MNIST.ipynb",
      "provenance": []
    },
    "kernelspec": {
      "name": "python3",
      "display_name": "Python 3"
    }
  },
  "cells": [
    {
      "cell_type": "code",
      "metadata": {
        "id": "g-uYIs_54QEe"
      },
      "source": [
        "import tensorflow as tf"
      ],
      "execution_count": 49,
      "outputs": []
    },
    {
      "cell_type": "code",
      "metadata": {
        "id": "5TM1YaR24dMS"
      },
      "source": [
        "import numpy as np\n",
        "import matplotlib.pyplot as plt\n",
        "from tensorflow.keras.layers import Input, Conv2D, Dense, Flatten, Dropout\n",
        "from tensorflow.keras.models import Model"
      ],
      "execution_count": 50,
      "outputs": []
    },
    {
      "cell_type": "markdown",
      "metadata": {
        "id": "Dd2XCDHK5nJm"
      },
      "source": [
        "Fshion MNIST consist of 28*28 grayscale images of different types of clothing.\n",
        "Task: Classification"
      ]
    },
    {
      "cell_type": "code",
      "metadata": {
        "id": "eq-NVoL-5kKZ"
      },
      "source": [
        "#loding data\n",
        "\n",
        "fashion_mnist=tf.keras.datasets.fashion_mnist"
      ],
      "execution_count": 51,
      "outputs": []
    },
    {
      "cell_type": "code",
      "metadata": {
        "id": "2WW_esS-5_h7"
      },
      "source": [
        "(x_train, y_train),(x_test, y_test)=fashion_mnist.load_data() # loading data in 4 parts"
      ],
      "execution_count": 52,
      "outputs": []
    },
    {
      "cell_type": "code",
      "metadata": {
        "id": "BhUJG6Ez6Peb",
        "outputId": "028c2444-7eb0-4301-8e37-de276970a20d",
        "colab": {
          "base_uri": "https://localhost:8080/"
        }
      },
      "source": [
        "x_train.shape"
      ],
      "execution_count": 53,
      "outputs": [
        {
          "output_type": "execute_result",
          "data": {
            "text/plain": [
              "(60000, 28, 28)"
            ]
          },
          "metadata": {
            "tags": []
          },
          "execution_count": 53
        }
      ]
    },
    {
      "cell_type": "code",
      "metadata": {
        "id": "3q8dS0d26ZSr"
      },
      "source": [
        "#since data sets are in grayscale from 0-255 will make is normalize dataset\n",
        "#standarization \n",
        "\n",
        "x_train, x_test=x_train/255.0, x_test/255.0"
      ],
      "execution_count": 54,
      "outputs": []
    },
    {
      "cell_type": "code",
      "metadata": {
        "id": "IgxkEFul606r",
        "outputId": "b6fd07b1-21cf-40ae-ed95-0affd2f34de3",
        "colab": {
          "base_uri": "https://localhost:8080/"
        }
      },
      "source": [
        "x_test.shape"
      ],
      "execution_count": 55,
      "outputs": [
        {
          "output_type": "execute_result",
          "data": {
            "text/plain": [
              "(10000, 28, 28)"
            ]
          },
          "metadata": {
            "tags": []
          },
          "execution_count": 55
        }
      ]
    },
    {
      "cell_type": "markdown",
      "metadata": {
        "id": "XF0LPS9J8P4X"
      },
      "source": [
        "x_train.shape is N(numbers)*H(Height)*W(Weight)  but\n",
        "\n",
        "CNN requires a shape is N*H*W*C(Colors)\n",
        "\n",
        "therfore we need to add a superfluous layers."
      ]
    },
    {
      "cell_type": "code",
      "metadata": {
        "id": "PAXzx_L39CPM"
      },
      "source": [
        "x_train=np.expand_dims(x_train,-1) # adding superfluous layers in train data\n",
        "x_test=np.expand_dims(x_test,-1) # adding superfluous layer in test data"
      ],
      "execution_count": 56,
      "outputs": []
    },
    {
      "cell_type": "code",
      "metadata": {
        "id": "-10Ui1ab9nFf",
        "outputId": "5baffaa0-3b94-44f3-d808-e365dfde7fd7",
        "colab": {
          "base_uri": "https://localhost:8080/"
        }
      },
      "source": [
        "x_train.shape # now we have shape which required in CNN model"
      ],
      "execution_count": 57,
      "outputs": [
        {
          "output_type": "execute_result",
          "data": {
            "text/plain": [
              "(60000, 28, 28, 1)"
            ]
          },
          "metadata": {
            "tags": []
          },
          "execution_count": 57
        }
      ]
    },
    {
      "cell_type": "code",
      "metadata": {
        "id": "9trsyN1v9217",
        "outputId": "b75a13e8-c4cb-4df7-baa5-a5fe61ba42a5",
        "colab": {
          "base_uri": "https://localhost:8080/"
        }
      },
      "source": [
        "x_test.shape"
      ],
      "execution_count": 58,
      "outputs": [
        {
          "output_type": "execute_result",
          "data": {
            "text/plain": [
              "(10000, 28, 28, 1)"
            ]
          },
          "metadata": {
            "tags": []
          },
          "execution_count": 58
        }
      ]
    },
    {
      "cell_type": "code",
      "metadata": {
        "id": "L06QriBX-Nh8",
        "outputId": "491d6645-5359-4cc2-e72b-6863830072c0",
        "colab": {
          "base_uri": "https://localhost:8080/"
        }
      },
      "source": [
        "#Number of classes \n",
        "K=len(set(y_train)) # uniques value \n",
        "print('Number of classes', K)"
      ],
      "execution_count": 59,
      "outputs": [
        {
          "output_type": "stream",
          "text": [
            "Number of classes 10\n"
          ],
          "name": "stdout"
        }
      ]
    },
    {
      "cell_type": "code",
      "metadata": {
        "id": "P4FXMeji-sMy"
      },
      "source": [
        ""
      ],
      "execution_count": 59,
      "outputs": []
    },
    {
      "cell_type": "markdown",
      "metadata": {
        "id": "KcqMHyhn_BE6"
      },
      "source": [
        "we will be using function API . why?\n",
        "\n",
        "Code looks cleaner and compact.\n",
        "\n",
        "it allow us to create branches .\n",
        "\n",
        "it allow you to define model that can have multiple inputs and outputs"
      ]
    },
    {
      "cell_type": "code",
      "metadata": {
        "id": "OejRBZmA_dyo",
        "outputId": "7b882fba-09e9-40c4-d684-124b1be1bdbe",
        "colab": {
          "base_uri": "https://localhost:8080/"
        }
      },
      "source": [
        "#what is inputs\n",
        "\n",
        "x_train.shape # this includes number N=60000, which is number of images in data\n"
      ],
      "execution_count": 60,
      "outputs": [
        {
          "output_type": "execute_result",
          "data": {
            "text/plain": [
              "(60000, 28, 28, 1)"
            ]
          },
          "metadata": {
            "tags": []
          },
          "execution_count": 60
        }
      ]
    },
    {
      "cell_type": "code",
      "metadata": {
        "id": "QpyrYuBiAEWc",
        "outputId": "3a589efa-5ef2-4c25-d4a9-39a18385faee",
        "colab": {
          "base_uri": "https://localhost:8080/"
        }
      },
      "source": [
        "x_train[0].shape # so if will remove N=60000 than rest would be our input image (28*28*1)"
      ],
      "execution_count": 61,
      "outputs": [
        {
          "output_type": "execute_result",
          "data": {
            "text/plain": [
              "(28, 28, 1)"
            ]
          },
          "metadata": {
            "tags": []
          },
          "execution_count": 61
        }
      ]
    },
    {
      "cell_type": "code",
      "metadata": {
        "id": "njnU1fJdAlUJ"
      },
      "source": [
        "#Build the Model using functional API"
      ],
      "execution_count": 62,
      "outputs": []
    },
    {
      "cell_type": "code",
      "metadata": {
        "id": "2wKUYeCLBIDp"
      },
      "source": [
        "i=Input(shape=x_train[0].shape)\n",
        "\n",
        "x=Conv2D(32,(3,3), strides=2, activation='relu')(i) #32/64 is output feature map,(3,3) is filter dimension\n",
        "\n",
        "x=Conv2D(64,(3,3), strides=2, activation='relu')(x)\n",
        "\n",
        "x=Conv2D(70,(3,3), strides=2, activation='relu')(x)\n",
        "\n",
        "x= Flatten()(x)\n",
        "\n",
        "x=Dropout(0.2)(x)   # output going to be 3D matrix but while feeding in nural required 1d matrix so thers is 2 way 1- flatten 2-Global max pulling\n",
        "      #limitation of flatten is if \"image sizes are diferent than it will not work howver in our case image size is 28*28(each image same size)\n",
        "      #hence there will not any problem and will use flatten in thi case\n",
        "\n",
        "#Dense Layers Nural Network design commences here-\n",
        "\n",
        "x=Dense(512, activation='relu')(x) #output layer # 'relu' used for hidden layer\n",
        "\n",
        "x=Dropout(0.2)(x)\n",
        "\n",
        "x=Dense(K, activation='softmax')(x) #output layer , k is number of feature here which is 10, 'softmax' used for output layer\n",
        "\n",
        "# once we have the vraiable representing the input 'i'\n",
        "#and the variable representng the output 'x'\n",
        "#we can pass these into the model() constructor\n",
        "\n",
        "model=Model(i,x)\n",
        "\n",
        "\n",
        "\n"
      ],
      "execution_count": 69,
      "outputs": []
    },
    {
      "cell_type": "code",
      "metadata": {
        "id": "ISNG0uNXFR2f",
        "outputId": "e28964d6-e446-430e-d802-39b0e67c8661",
        "colab": {
          "base_uri": "https://localhost:8080/"
        }
      },
      "source": [
        "#Complie and fit \n",
        "model.compile(optimizer='adam',\n",
        "              loss='sparse_categorical_crossentropy',\n",
        "              metrics =['accuracy']\n",
        "              )\n",
        "r=model.fit(x_train,y_train, validation_data=(x_test,y_test),epochs=15)"
      ],
      "execution_count": 70,
      "outputs": [
        {
          "output_type": "stream",
          "text": [
            "Epoch 1/15\n",
            "1875/1875 [==============================] - 23s 12ms/step - loss: 0.5423 - accuracy: 0.8021 - val_loss: 0.4068 - val_accuracy: 0.8477\n",
            "Epoch 2/15\n",
            "1875/1875 [==============================] - 23s 12ms/step - loss: 0.3783 - accuracy: 0.8573 - val_loss: 0.3674 - val_accuracy: 0.8613\n",
            "Epoch 3/15\n",
            "1875/1875 [==============================] - 23s 12ms/step - loss: 0.3285 - accuracy: 0.8771 - val_loss: 0.3359 - val_accuracy: 0.8718\n",
            "Epoch 4/15\n",
            "1875/1875 [==============================] - 24s 13ms/step - loss: 0.2969 - accuracy: 0.8868 - val_loss: 0.3131 - val_accuracy: 0.8824\n",
            "Epoch 5/15\n",
            "1875/1875 [==============================] - 25s 13ms/step - loss: 0.2713 - accuracy: 0.8983 - val_loss: 0.2999 - val_accuracy: 0.8889\n",
            "Epoch 6/15\n",
            "1875/1875 [==============================] - 24s 13ms/step - loss: 0.2524 - accuracy: 0.9047 - val_loss: 0.2910 - val_accuracy: 0.8919\n",
            "Epoch 7/15\n",
            "1875/1875 [==============================] - 24s 13ms/step - loss: 0.2363 - accuracy: 0.9114 - val_loss: 0.2962 - val_accuracy: 0.8932\n",
            "Epoch 8/15\n",
            "1875/1875 [==============================] - 24s 13ms/step - loss: 0.2208 - accuracy: 0.9153 - val_loss: 0.2855 - val_accuracy: 0.9014\n",
            "Epoch 9/15\n",
            "1875/1875 [==============================] - 25s 13ms/step - loss: 0.2065 - accuracy: 0.9210 - val_loss: 0.2855 - val_accuracy: 0.8973\n",
            "Epoch 10/15\n",
            "1875/1875 [==============================] - 24s 13ms/step - loss: 0.1963 - accuracy: 0.9239 - val_loss: 0.2914 - val_accuracy: 0.9010\n",
            "Epoch 11/15\n",
            "1875/1875 [==============================] - 24s 13ms/step - loss: 0.1852 - accuracy: 0.9290 - val_loss: 0.3076 - val_accuracy: 0.8972\n",
            "Epoch 12/15\n",
            "1875/1875 [==============================] - 24s 13ms/step - loss: 0.1772 - accuracy: 0.9320 - val_loss: 0.3026 - val_accuracy: 0.9019\n",
            "Epoch 13/15\n",
            "1875/1875 [==============================] - 25s 13ms/step - loss: 0.1650 - accuracy: 0.9361 - val_loss: 0.3129 - val_accuracy: 0.9000\n",
            "Epoch 14/15\n",
            "1875/1875 [==============================] - 24s 13ms/step - loss: 0.1633 - accuracy: 0.9376 - val_loss: 0.3054 - val_accuracy: 0.9039\n",
            "Epoch 15/15\n",
            "1875/1875 [==============================] - 25s 13ms/step - loss: 0.1550 - accuracy: 0.9409 - val_loss: 0.3330 - val_accuracy: 0.9043\n"
          ],
          "name": "stdout"
        }
      ]
    },
    {
      "cell_type": "code",
      "metadata": {
        "id": "tJXJBlbqJ0fm"
      },
      "source": [
        "#Model has perform decent accuracy as 95 % "
      ],
      "execution_count": 64,
      "outputs": []
    },
    {
      "cell_type": "code",
      "metadata": {
        "id": "ZgR0QFhnKaMR",
        "outputId": "dedcb5da-c43a-4218-a8de-7d54383acfa1",
        "colab": {
          "base_uri": "https://localhost:8080/",
          "height": 282
        }
      },
      "source": [
        "#plot loss per iteration\n",
        "plt.plot(r.history['loss'],label='loss')\n",
        "plt.plot(r.history ['val_loss'],label='val_loss' )\n",
        "plt.legend()\n",
        "\n",
        "#in below graph model has been little bit overfited since we can see val loss going higher "
      ],
      "execution_count": 71,
      "outputs": [
        {
          "output_type": "execute_result",
          "data": {
            "text/plain": [
              "<matplotlib.legend.Legend at 0x7fce73b0ac18>"
            ]
          },
          "metadata": {
            "tags": []
          },
          "execution_count": 71
        },
        {
          "output_type": "display_data",
          "data": {
            "image/png": "[encoded data removed]",
            "text/plain": [
              "<Figure size 432x288 with 1 Axes>"
            ]
          },
          "metadata": {
            "tags": [],
            "needs_background": "light"
          }
        }
      ]
    },
    {
      "cell_type": "code",
      "metadata": {
        "id": "MsFi-xwMK58Y",
        "outputId": "89497fbc-0334-4323-a7db-9bf6912191f1",
        "colab": {
          "base_uri": "https://localhost:8080/",
          "height": 282
        }
      },
      "source": [
        "#plot accuracy per iteration\n",
        "plt.plot(r.history['accuracy'],label='accuracy')\n",
        "plt.plot(r.history ['val_accuracy'],label='val_accuracy' )\n",
        "plt.legend()"
      ],
      "execution_count": 72,
      "outputs": [
        {
          "output_type": "execute_result",
          "data": {
            "text/plain": [
              "<matplotlib.legend.Legend at 0x7fce73bdfb00>"
            ]
          },
          "metadata": {
            "tags": []
          },
          "execution_count": 72
        },
        {
          "output_type": "display_data",
          "data": {
            "image/png": "[encoded data removed]",
            "text/plain": [
              "<Figure size 432x288 with 1 Axes>"
            ]
          },
          "metadata": {
            "tags": [],
            "needs_background": "light"
          }
        }
      ]
    },
    {
      "cell_type": "code",
      "metadata": {
        "id": "VeRDRh2xLOTC"
      },
      "source": [
        ""
      ],
      "execution_count": 66,
      "outputs": []
    }
  ]
}